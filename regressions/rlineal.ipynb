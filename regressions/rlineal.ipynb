{
 "cells": [
  {
   "cell_type": "markdown",
   "metadata": {},
   "source": [
    "## LIBRERIAS"
   ]
  },
  {
   "cell_type": "code",
   "execution_count": 1,
   "metadata": {},
   "outputs": [],
   "source": [
    "import matplotlib.pyplot as plt\n",
    "import pandas as pd\n",
    "import numpy as np\n",
    "import math\n",
    "import pylab as plb"
   ]
  },
  {
   "cell_type": "markdown",
   "metadata": {},
   "source": [
    "## VALORES DE X & Y"
   ]
  },
  {
   "cell_type": "code",
   "execution_count": 2,
   "metadata": {},
   "outputs": [],
   "source": [
    "x = [1,2,3,4,5,6,7]\n",
    "y = [0.5, 2.5, 2, 4, 3.5, 6, 5.5]"
   ]
  },
  {
   "cell_type": "markdown",
   "metadata": {},
   "source": [
    "## SE CONVIERTEN LOS DATOS DE LISTAS A DATAFRAME CON PANDAS"
   ]
  },
  {
   "cell_type": "code",
   "execution_count": 3,
   "metadata": {},
   "outputs": [
    {
     "data": {
      "text/html": [
       "<div>\n",
       "<style scoped>\n",
       "    .dataframe tbody tr th:only-of-type {\n",
       "        vertical-align: middle;\n",
       "    }\n",
       "\n",
       "    .dataframe tbody tr th {\n",
       "        vertical-align: top;\n",
       "    }\n",
       "\n",
       "    .dataframe thead th {\n",
       "        text-align: right;\n",
       "    }\n",
       "</style>\n",
       "<table border=\"1\" class=\"dataframe\">\n",
       "  <thead>\n",
       "    <tr style=\"text-align: right;\">\n",
       "      <th></th>\n",
       "      <th>x</th>\n",
       "      <th>y</th>\n",
       "    </tr>\n",
       "  </thead>\n",
       "  <tbody>\n",
       "    <tr>\n",
       "      <th>0</th>\n",
       "      <td>1</td>\n",
       "      <td>0.5</td>\n",
       "    </tr>\n",
       "    <tr>\n",
       "      <th>1</th>\n",
       "      <td>2</td>\n",
       "      <td>2.5</td>\n",
       "    </tr>\n",
       "    <tr>\n",
       "      <th>2</th>\n",
       "      <td>3</td>\n",
       "      <td>2.0</td>\n",
       "    </tr>\n",
       "    <tr>\n",
       "      <th>3</th>\n",
       "      <td>4</td>\n",
       "      <td>4.0</td>\n",
       "    </tr>\n",
       "    <tr>\n",
       "      <th>4</th>\n",
       "      <td>5</td>\n",
       "      <td>3.5</td>\n",
       "    </tr>\n",
       "    <tr>\n",
       "      <th>5</th>\n",
       "      <td>6</td>\n",
       "      <td>6.0</td>\n",
       "    </tr>\n",
       "    <tr>\n",
       "      <th>6</th>\n",
       "      <td>7</td>\n",
       "      <td>5.5</td>\n",
       "    </tr>\n",
       "  </tbody>\n",
       "</table>\n",
       "</div>"
      ],
      "text/plain": [
       "   x    y\n",
       "0  1  0.5\n",
       "1  2  2.5\n",
       "2  3  2.0\n",
       "3  4  4.0\n",
       "4  5  3.5\n",
       "5  6  6.0\n",
       "6  7  5.5"
      ]
     },
     "execution_count": 3,
     "metadata": {},
     "output_type": "execute_result"
    }
   ],
   "source": [
    "dataf = pd.DataFrame(list(zip(x,y)), columns = ['x','y'])\n",
    "dataf"
   ]
  },
  {
   "cell_type": "markdown",
   "metadata": {},
   "source": [
    "## FUNCIONES"
   ]
  },
  {
   "cell_type": "code",
   "execution_count": 4,
   "metadata": {},
   "outputs": [],
   "source": [
    "#FUNCION QUE SUMA CADA ELEMTO DE UNA LISTA\n",
    "def iter(lista):\n",
    "    suma = 0\n",
    "    for x in lista:\n",
    "        suma = suma + x\n",
    "    return suma\n",
    "\n",
    "#FUNCION QUE ELEVA AL CUADRADO CADA ELEMENTO DE UNA LISTA Y RETORNA UNA LISTA \n",
    "def elevar(lista):\n",
    "    l = []\n",
    "    for x in lista:\n",
    "        l.append(x**2)\n",
    "    return l\n",
    "\n",
    "#FUNCION PARA CALCULAR LOS VALORES DE LA COLUMNA (Y-A0-A1X)^2\n",
    "def test(y,a_0,a_1,x):\n",
    "    lista = []\n",
    "    for value in range(len(x)):\n",
    "        lista.append((y[value]-a_0-a_1*x[value])**2)\n",
    "        # res = (y[value]-a_0-a_1*x[value])**2\n",
    "        # lista.append(res)\n",
    "    return lista\n",
    "\n",
    "#FUNCION PARA CALCULAR LOS VALORES DE LA COLUMNA (Y-M)^2\n",
    "def test2(y,m):\n",
    "    lista = []\n",
    "    for value in range(len(y)):\n",
    "        lista.append((y[value]-m)**2)\n",
    "    return lista"
   ]
  },
  {
   "cell_type": "markdown",
   "metadata": {},
   "source": [
    "## VARIABLES"
   ]
  },
  {
   "cell_type": "code",
   "execution_count": 12,
   "metadata": {},
   "outputs": [],
   "source": [
    "suma_y = iter(y) #TOTAL DE LA COLUMNA DE Y\n",
    "promedio_y = suma_y/len(y) #PROMEDIO DE LA COLUMNA DE Y\n",
    "suma_x = iter(x) #TOTAL DE LA COLUMNA DE X\n",
    "cantidad = len(x) #CANTIDAD DE ELEMTOS \n",
    "x_por_y = [a*b for a,b in zip(x,y)] #PRODUCTOS DE LAS COLUMNAS DE X*Y\n",
    "suma_x_por_y = iter(x_por_y) #TOTAL DE LA COLUMNA DE X*Y\n",
    "\n",
    "x_ala_2 = elevar(x) #COLUMNA DE X^2\n",
    "suma_x_ala_2 = iter(x_ala_2) #TOTAL DE LA COLUMNA DE X^2\n",
    "\n",
    "\n",
    "vector = np.array([ [suma_y],[suma_x_por_y] ]) #VECTOR\n",
    "\n",
    "\n",
    "matriz=np.array([[cantidad, suma_x],[suma_x,suma_x_ala_2]]) #MATRIZ\n",
    "matriz_inv = np.linalg.inv(matriz) #MATRIZ INVERSA\n",
    "\n",
    "a_0 = np.matmul(matriz_inv,vector)[0] #A0\n",
    "a_1 = np.matmul(matriz_inv,vector)[1] #A1\n",
    "\n",
    "f = test(y,a_0,a_1,x) #COLUMNA DE (Y-A0-A1X)^2\n",
    "suma_f = iter(f) #TOTAL DE LA COLUMNA DE (Y-A0-A1X)^2\n",
    "\n",
    "g = test2(y,promedio_y) #COLUMNA DE (Y-M)^2X\n",
    "suma_g = iter(g) #TOTAL DE LA COLUMNA DE (Y-M)^2\n",
    "\n",
    "coe_det = ((suma_g-suma_f)/suma_g)[0] #COEFICIENTE DE DETERMINACION\n",
    "coe_corr = math.sqrt(coe_det) #COEFICIIENTE DE CORRELACION\n",
    "sumas = [suma_x, suma_y, suma_x_por_y, suma_x_ala_2, suma_f, suma_g] #LISTA DE TODOS LOS TOTALES\n"
   ]
  },
  {
   "cell_type": "markdown",
   "metadata": {},
   "source": [
    "## IMPRESION DE VECTOR, MATRIZ Y MATRIZ INVERSA"
   ]
  },
  {
   "cell_type": "code",
   "execution_count": 14,
   "metadata": {},
   "outputs": [
    {
     "name": "stdout",
     "output_type": "stream",
     "text": [
      "[[ 24. ]\n",
      " [119.5]]\n",
      "\n",
      "[[  7  28]\n",
      " [ 28 140]]\n",
      "\n",
      "[[ 0.71428571 -0.14285714]\n",
      " [-0.14285714  0.03571429]]\n"
     ]
    }
   ],
   "source": [
    "print(vector)\n",
    "print()\n",
    "print(matriz)\n",
    "print()\n",
    "print(matriz_inv)"
   ]
  },
  {
   "cell_type": "markdown",
   "metadata": {},
   "source": [
    "## GRAFICA"
   ]
  },
  {
   "cell_type": "code",
   "execution_count": 7,
   "metadata": {},
   "outputs": [
    {
     "data": {
      "text/plain": [
       "Text(0.5, 1.0, 'Regresion Lineal')"
      ]
     },
     "execution_count": 7,
     "metadata": {},
     "output_type": "execute_result"
    },
    {
     "data": {
      "image/png": "[encoded data removed]",
      "text/plain": [
       "<Figure size 432x288 with 1 Axes>"
      ]
     },
     "metadata": {
      "needs_background": "light"
     },
     "output_type": "display_data"
    }
   ],
   "source": [
    "linea = a_0+a_1*x\n",
    "plb.scatter(x,y)\n",
    "plb.plot(x,linea,'r--')\n",
    "plt.xlabel(\"x\")\n",
    "plt.ylabel(\"y\")\n",
    "plt.title(\"Regresion Lineal\")\n"
   ]
  },
  {
   "cell_type": "markdown",
   "metadata": {},
   "source": [
    "## TABLA FINAL Y RESULTADOS"
   ]
  },
  {
   "cell_type": "code",
   "execution_count": 8,
   "metadata": {},
   "outputs": [
    {
     "name": "stdout",
     "output_type": "stream",
     "text": [
      "    x     y     xy  x^2        (y-a_0-a_1*x)^2    (y-m)^2\n",
      "0   1   0.5    0.5    1  [0.16868622448979692]   8.576531\n",
      "1   2   2.5    5.0    4   [0.5624999999999987]   0.862245\n",
      "2   3   2.0    6.0    9  [0.34725765306122514]   2.040816\n",
      "3   4   4.0   16.0   16  [0.32653061224489766]   0.326531\n",
      "4   5   3.5   17.5   25   [0.5896045918367339]   0.005102\n",
      "5   6   6.0   36.0   36   [0.7971938775510211]   6.612245\n",
      "6   7   5.5   38.5   49  [0.19929846938775486]   4.290816\n",
      "7  28  24.0  119.5  140    [2.991071428571428]  22.714286\n",
      "\n",
      "y = 0.839285714285714x+0.07142857142857295\n",
      "Coeficiente de Determinacion: 0.8683176100628932\n",
      "Coeficiente de Correlacion: 0.9318356132188194\n"
     ]
    }
   ],
   "source": [
    "datafinal = pd.DataFrame(list(zip(x,y,x_por_y,x_ala_2,f,g)), columns = ['x','y','xy','x^2','(y-a_0-a_1*x)^2','(y-m)^2'])\n",
    "datafinal.loc[7] = sumas\n",
    "print(datafinal)\n",
    "print()\n",
    "print(f\"y = {a_1[0]}x+{a_0[0]}\")\n",
    "print(f\"Coeficiente de Determinacion: {coe_det}\")\n",
    "print(f\"Coeficiente de Correlacion: {coe_corr}\")\n",
    "\n"
   ]
  }
 ],
 "metadata": {
  "interpreter": {
   "hash": "4bd62d0b6c44f2358aecd23e585511665d02eda023f62cb5a7d01040aac4f43b"
  },
  "kernelspec": {
   "display_name": "Python 3.9.7 64-bit ('data': conda)",
   "name": "python3"
  },
  "language_info": {
   "codemirror_mode": {
    "name": "ipython",
    "version": 3
   },
   "file_extension": ".py",
   "mimetype": "text/x-python",
   "name": "python",
   "nbconvert_exporter": "python",
   "pygments_lexer": "ipython3",
   "version": "3.9.7"
  },
  "orig_nbformat": 4
 },
 "nbformat": 4,
 "nbformat_minor": 2
}
