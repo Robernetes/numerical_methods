{
 "cells": [
  {
   "cell_type": "code",
   "execution_count": 114,
   "metadata": {},
   "outputs": [],
   "source": [
    "import pandas as pd\n",
    "from tabulate import tabulate\n",
    "import numpy as np\n",
    "from math import sqrt, log10\n",
    "import matplotlib.pyplot as plt\n",
    "import pylab as plb"
   ]
  },
  {
   "cell_type": "code",
   "execution_count": 115,
   "metadata": {},
   "outputs": [],
   "source": [
    "x = [0.05, 0.4, 0.8, 1.2, 1.6, 2, 2.4]\n",
    "y = [550, 750, 1000, 1400, 2000, 2700, 3750]"
   ]
  },
  {
   "cell_type": "code",
   "execution_count": 116,
   "metadata": {},
   "outputs": [],
   "source": [
    "logx = list(map(lambda x: log10(x), x))\n",
    "logy = list(map(lambda y: log10(y), y))\n",
    "logxlogy = list(map(lambda x, y: log10(x)*log10(y), x,y))\n",
    "logx2 = list(map(lambda x: log10(x)**2, x))\n",
    "p = sum(logy)/len(logy)\n",
    "logy_p2 = list(map(lambda y: (log10(y)-p)**2, y))\n"
   ]
  },
  {
   "cell_type": "code",
   "execution_count": 117,
   "metadata": {},
   "outputs": [
    {
     "name": "stdout",
     "output_type": "stream",
     "text": [
      "[[22.06797702]\n",
      " [-1.68537519]]\n"
     ]
    }
   ],
   "source": [
    "vector = np.array([[sum(logy)],[sum(logxlogy)]])\n",
    "print(vector)"
   ]
  },
  {
   "cell_type": "code",
   "execution_count": 118,
   "metadata": {},
   "outputs": [
    {
     "name": "stdout",
     "output_type": "stream",
     "text": [
      "[[ 7.         -0.83133755]\n",
      " [-0.83133755  2.14354113]]\n"
     ]
    }
   ],
   "source": [
    "matrix = np.array([[len(x), sum(logx)],[sum(logx), sum(logx2)]])\n",
    "print(matrix)"
   ]
  },
  {
   "cell_type": "code",
   "execution_count": 119,
   "metadata": {},
   "outputs": [
    {
     "name": "stdout",
     "output_type": "stream",
     "text": [
      "[[0.14975487 0.05807999]\n",
      " [0.05807999 0.48904313]]\n"
     ]
    }
   ],
   "source": [
    "matrix_inv = np.linalg.inv(matrix)\n",
    "print(matrix_inv)"
   ]
  },
  {
   "cell_type": "code",
   "execution_count": 120,
   "metadata": {},
   "outputs": [
    {
     "name": "stdout",
     "output_type": "stream",
     "text": [
      "[3.20690041] [0.45748669]\n"
     ]
    }
   ],
   "source": [
    "log_a = np.matmul(matrix_inv,vector)[0]\n",
    "log_b = np.matmul(matrix_inv,vector)[1]\n",
    "print(log_a,log_b)"
   ]
  },
  {
   "cell_type": "code",
   "execution_count": 121,
   "metadata": {},
   "outputs": [
    {
     "name": "stdout",
     "output_type": "stream",
     "text": [
      "[array([0.01655499]), array([0.02243611]), array([0.0264275]), array([0.00940837]), array([5.58619011e-07]), array([0.00752489]), array([0.0373221])]\n"
     ]
    }
   ],
   "source": [
    "last_column = list(map(lambda logx,logy: (logy-(log_a+log_b*logx))**2, logx,logy))\n",
    "print(last_column)"
   ]
  },
  {
   "cell_type": "code",
   "execution_count": 122,
   "metadata": {},
   "outputs": [
    {
     "name": "stdout",
     "output_type": "stream",
     "text": [
      "[1610.27633985] [0.45748669]\n"
     ]
    }
   ],
   "source": [
    "alpha = 10**log_a\n",
    "betha = log_b\n",
    "print(alpha, betha)"
   ]
  },
  {
   "cell_type": "code",
   "execution_count": 123,
   "metadata": {},
   "outputs": [
    {
     "name": "stdout",
     "output_type": "stream",
     "text": [
      "y = 1610.2763398496295x^0.4574866921974461\n"
     ]
    }
   ],
   "source": [
    "print(f'y = {alpha[0]}x^{betha[0]}')"
   ]
  },
  {
   "cell_type": "code",
   "execution_count": 124,
   "metadata": {},
   "outputs": [
    {
     "name": "stdout",
     "output_type": "stream",
     "text": [
      "[0.78147269]\n"
     ]
    }
   ],
   "source": [
    "r2 = (sum(logy_p2)-sum(last_column))/sum(logy_p2)\n",
    "print(r2)"
   ]
  },
  {
   "cell_type": "code",
   "execution_count": 125,
   "metadata": {},
   "outputs": [
    {
     "name": "stdout",
     "output_type": "stream",
     "text": [
      "+-------+------+-------+------------+----------+-----------------+------------+----------------+--------------------------------+\n",
      "|       |    x |     y |     log(x) |   log(y) |   log(x)*log(y) |   log(x)^2 |   (log(y)-p)^2 |   (log(y)-(log(a+b)*log(x)))^2 |\n",
      "|-------+------+-------+------------+----------+-----------------+------------+----------------+--------------------------------|\n",
      "| 0     | 0.05 |   550 | -1.30103   |  2.74036 |       -3.56529  | 1.69268    |     0.169913   |                    0.016555    |\n",
      "| 1     | 0.4  |   750 | -0.39794   |  2.87506 |       -1.1441   | 0.158356   |     0.0770101  |                    0.0224361   |\n",
      "| 2     | 0.8  |  1000 | -0.09691   |  3       |       -0.29073  | 0.00939155 |     0.023277   |                    0.0264275   |\n",
      "| 3     | 1.2  |  1400 |  0.0791812 |  3.14613 |        0.249114 | 0.00626967 |     4.1475e-05 |                    0.00940837  |\n",
      "| 4     | 1.6  |  2000 |  0.20412   |  3.30103 |        0.673806 | 0.041665   |     0.0220409  |                    5.58619e-07 |\n",
      "| 5     | 2    |  2700 |  0.30103   |  3.43136 |        1.03294  | 0.0906191  |     0.077727   |                    0.00752489  |\n",
      "| 6     | 2.4  |  3750 |  0.380211  |  3.57403 |        1.35889  | 0.144561   |     0.177631   |                    0.0373221   |\n",
      "| Total | 8.45 | 12150 | -0.831338  | 22.068   |       -1.68538  | 2.14354    |     0.547641   |                    0.119675    |\n",
      "+-------+------+-------+------------+----------+-----------------+------------+----------------+--------------------------------+\n"
     ]
    }
   ],
   "source": [
    "data = pd.DataFrame(list(zip(x,y,logx,logy,logxlogy,logx2,logy_p2,last_column)), columns=['x','y','log(x)','log(y)','log(x)*log(y)','log(x)^2','(log(y)-p)^2','(log(y)-(log(a+b)*log(x)))^2'])\n",
    "data.loc['Total']= data.sum(axis=0)\n",
    "print(tabulate(data, headers='keys', tablefmt='psql'))"
   ]
  },
  {
   "cell_type": "code",
   "execution_count": 126,
   "metadata": {},
   "outputs": [
    {
     "data": {
      "text/plain": [
       "Text(0.5, 1.0, 'Potential regression')"
      ]
     },
     "execution_count": 126,
     "metadata": {},
     "output_type": "execute_result"
    },
    {
     "data": {
      "image/png": "[encoded data removed]",
      "text/plain": [
       "<Figure size 432x288 with 1 Axes>"
      ]
     },
     "metadata": {
      "needs_background": "light"
     },
     "output_type": "display_data"
    }
   ],
   "source": [
    "line = alpha*x**betha\n",
    "plb.scatter(x,y)\n",
    "plb.plot(x,line,'b--')\n",
    "plt.xlabel(\"x\")\n",
    "plt.ylabel(\"y\")\n",
    "plt.title(\"Potential regression\")"
   ]
  }
 ],
 "metadata": {
  "interpreter": {
   "hash": "4bd62d0b6c44f2358aecd23e585511665d02eda023f62cb5a7d01040aac4f43b"
  },
  "kernelspec": {
   "display_name": "Python 3.9.7 64-bit ('data': conda)",
   "language": "python",
   "name": "python3"
  },
  "language_info": {
   "codemirror_mode": {
    "name": "ipython",
    "version": 3
   },
   "file_extension": ".py",
   "mimetype": "text/x-python",
   "name": "python",
   "nbconvert_exporter": "python",
   "pygments_lexer": "ipython3",
   "version": "3.9.7"
  },
  "orig_nbformat": 4
 },
 "nbformat": 4,
 "nbformat_minor": 2
}
