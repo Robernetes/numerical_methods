{
 "cells": [
  {
   "cell_type": "code",
   "execution_count": 301,
   "metadata": {},
   "outputs": [],
   "source": [
    "import pandas as pd\n",
    "from tabulate import tabulate\n",
    "import numpy as np\n",
    "from math import exp, log\n",
    "import matplotlib.pyplot as plt\n",
    "import pylab as plb"
   ]
  },
  {
   "cell_type": "code",
   "execution_count": 302,
   "metadata": {},
   "outputs": [],
   "source": [
    "x = [0.4, 0.8, 1.2, 1.6, 2, 2.3]\n",
    "y = [8, 10, 12, 18, 35, 60]"
   ]
  },
  {
   "cell_type": "code",
   "execution_count": 303,
   "metadata": {},
   "outputs": [],
   "source": [
    "x2 = list(map(lambda x: x**2, x))\n",
    "lny = list(map(lambda y: log(y), y))\n",
    "xlny = list(map(lambda x,y: x*log(y), x,y))\n",
    "p = sum(lny)/len(lny)\n",
    "lny_p2 = list(map(lambda y: (log(y)-p)**2, y))\n",
    "#last_column = list(map(lambda x, y: (log(y)-(lna+b*x))**2, x,y ))\n"
   ]
  },
  {
   "cell_type": "code",
   "execution_count": 304,
   "metadata": {},
   "outputs": [
    {
     "name": "stdout",
     "output_type": "stream",
     "text": [
      "[[17.40699767]\n",
      " [26.8080161 ]]\n"
     ]
    }
   ],
   "source": [
    "vector = np.array([[sum(lny)],[sum(xlny)]])\n",
    "print(vector)"
   ]
  },
  {
   "cell_type": "code",
   "execution_count": 305,
   "metadata": {},
   "outputs": [
    {
     "name": "stdout",
     "output_type": "stream",
     "text": [
      "[[ 6.    8.3 ]\n",
      " [ 8.3  14.09]]\n"
     ]
    }
   ],
   "source": [
    "matrix = np.array([[len(x), sum(x)],[sum(x), sum(x2)]])\n",
    "print(matrix)"
   ]
  },
  {
   "cell_type": "code",
   "execution_count": 306,
   "metadata": {},
   "outputs": [
    {
     "name": "stdout",
     "output_type": "stream",
     "text": [
      "[[ 0.90031949 -0.53035144]\n",
      " [-0.53035144  0.38338658]]\n"
     ]
    }
   ],
   "source": [
    "matrix_inv = np.linalg.inv(matrix)\n",
    "print(matrix_inv)"
   ]
  },
  {
   "cell_type": "code",
   "execution_count": 307,
   "metadata": {},
   "outputs": [
    {
     "name": "stdout",
     "output_type": "stream",
     "text": [
      "[1.45418936] [1.04600741]\n"
     ]
    }
   ],
   "source": [
    "lna = np.matmul(matrix_inv,vector)[0]\n",
    "b = np.matmul(matrix_inv,vector)[1]\n",
    "print(lna,b)"
   ]
  },
  {
   "cell_type": "code",
   "execution_count": 308,
   "metadata": {},
   "outputs": [
    {
     "name": "stdout",
     "output_type": "stream",
     "text": [
      "[array([0.0427866]), array([0.00013432]), array([0.05039648]), array([0.05637275]), array([8.36105577e-05]), array([0.05491437])]\n"
     ]
    }
   ],
   "source": [
    "last_column = list(map(lambda x, y: (log(y)-(lna+b*x))**2, x,y ))\n",
    "print(last_column)"
   ]
  },
  {
   "cell_type": "code",
   "execution_count": 309,
   "metadata": {},
   "outputs": [
    {
     "name": "stdout",
     "output_type": "stream",
     "text": [
      "+----+-----+-----+------+---------+-----------+--------------+----------------------+\n",
      "|    |   x |   y |   x² |   ln(y) |   x*ln(y) |   (ln(y)-p)² |   (ln(y)-(lna+b*x))² |\n",
      "|----+-----+-----+------+---------+-----------+--------------+----------------------|\n",
      "|  0 | 0.4 |   8 | 0.16 | 2.07944 |  0.831777 |  0.675232    |          0.0427866   |\n",
      "|  1 | 0.8 |  10 | 0.64 | 2.30259 |  1.84207  |  0.358299    |          0.000134324 |\n",
      "|  2 | 1.2 |  12 | 1.44 | 2.48491 |  2.98189  |  0.173272    |          0.0503965   |\n",
      "|  3 | 1.6 |  18 | 2.56 | 2.89037 |  4.62459  |  0.000116522 |          0.0563727   |\n",
      "|  4 | 2   |  35 | 4    | 3.55535 |  7.1107   |  0.427954    |          8.36106e-05 |\n",
      "|  5 | 2.3 |  60 | 5.29 | 4.09434 |  9.41699  |  1.42367     |          0.0549144   |\n",
      "+----+-----+-----+------+---------+-----------+--------------+----------------------+\n"
     ]
    }
   ],
   "source": [
    "data_final = pd.DataFrame(list(zip(x,y,x2,lny,xlny,lny_p2, last_column)), columns=['x','y','x²','ln(y)','x*ln(y)','(ln(y)-p)²','(ln(y)-(lna+b*x))²'])\n",
    "print(tabulate(data_final, headers='keys', tablefmt='psql'))"
   ]
  },
  {
   "cell_type": "code",
   "execution_count": 310,
   "metadata": {},
   "outputs": [
    {
     "name": "stdout",
     "output_type": "stream",
     "text": [
      "+-------+-----+-----+-------+----------+-----------+--------------+----------------------+\n",
      "|       |   x |   y |    x² |    ln(y) |   x*ln(y) |   (ln(y)-p)² |   (ln(y)-(lna+b*x))² |\n",
      "|-------+-----+-----+-------+----------+-----------+--------------+----------------------|\n",
      "| 0     | 0.4 |   8 |  0.16 |  2.07944 |  0.831777 |  0.675232    |          0.0427866   |\n",
      "| 1     | 0.8 |  10 |  0.64 |  2.30259 |  1.84207  |  0.358299    |          0.000134324 |\n",
      "| 2     | 1.2 |  12 |  1.44 |  2.48491 |  2.98189  |  0.173272    |          0.0503965   |\n",
      "| 3     | 1.6 |  18 |  2.56 |  2.89037 |  4.62459  |  0.000116522 |          0.0563727   |\n",
      "| 4     | 2   |  35 |  4    |  3.55535 |  7.1107   |  0.427954    |          8.36106e-05 |\n",
      "| 5     | 2.3 |  60 |  5.29 |  4.09434 |  9.41699  |  1.42367     |          0.0549144   |\n",
      "| Total | 8.3 | 143 | 14.09 | 17.407   | 26.808    |  3.05855     |          0.204688    |\n",
      "+-------+-----+-----+-------+----------+-----------+--------------+----------------------+\n"
     ]
    }
   ],
   "source": [
    "data_final.loc['Total']= data_final.sum(axis=0)\n",
    "print(tabulate(data_final, headers='keys', tablefmt='psql'))"
   ]
  },
  {
   "cell_type": "code",
   "execution_count": 311,
   "metadata": {},
   "outputs": [
    {
     "name": "stdout",
     "output_type": "stream",
     "text": [
      "4.281011700596514\n"
     ]
    }
   ],
   "source": [
    "alfa = exp(lna)\n",
    "print(alfa)"
   ]
  },
  {
   "cell_type": "code",
   "execution_count": 312,
   "metadata": {},
   "outputs": [
    {
     "name": "stdout",
     "output_type": "stream",
     "text": [
      "1.0460074101495458\n"
     ]
    }
   ],
   "source": [
    "beta = b[0]\n",
    "print(beta)"
   ]
  },
  {
   "cell_type": "code",
   "execution_count": 313,
   "metadata": {},
   "outputs": [
    {
     "name": "stdout",
     "output_type": "stream",
     "text": [
      "y = 4.281011700596514e^1.0460074101495458x\n"
     ]
    }
   ],
   "source": [
    "print(f'y = {alfa}e^{beta}x')"
   ]
  },
  {
   "cell_type": "code",
   "execution_count": 314,
   "metadata": {},
   "outputs": [
    {
     "name": "stdout",
     "output_type": "stream",
     "text": [
      "[0.93307669]\n"
     ]
    }
   ],
   "source": [
    "r2 = (sum(lny_p2)-sum(last_column))/sum(lny_p2)\n",
    "print(r2)"
   ]
  },
  {
   "cell_type": "code",
   "execution_count": 315,
   "metadata": {},
   "outputs": [
    {
     "data": {
      "text/plain": [
       "Text(0.5, 1.0, 'Exponential regression')"
      ]
     },
     "execution_count": 315,
     "metadata": {},
     "output_type": "execute_result"
    },
    {
     "data": {
      "image/png": "[encoded data removed]",
      "text/plain": [
       "<Figure size 432x288 with 1 Axes>"
      ]
     },
     "metadata": {
      "needs_background": "light"
     },
     "output_type": "display_data"
    }
   ],
   "source": [
    "line = list(map(lambda x: alfa*(exp(beta*x)), x))\n",
    "plt.scatter(x,y)\n",
    "plb.plot(x,line,'b--')\n",
    "plb.xlabel('x')\n",
    "plb.ylabel('y')\n",
    "plb.title('Exponential regression')"
   ]
  }
 ],
 "metadata": {
  "interpreter": {
   "hash": "4bd62d0b6c44f2358aecd23e585511665d02eda023f62cb5a7d01040aac4f43b"
  },
  "kernelspec": {
   "display_name": "Python 3.9.7 64-bit ('data': conda)",
   "language": "python",
   "name": "python3"
  },
  "language_info": {
   "codemirror_mode": {
    "name": "ipython",
    "version": 3
   },
   "file_extension": ".py",
   "mimetype": "text/x-python",
   "name": "python",
   "nbconvert_exporter": "python",
   "pygments_lexer": "ipython3",
   "version": "3.9.7"
  },
  "orig_nbformat": 4
 },
 "nbformat": 4,
 "nbformat_minor": 2
}
