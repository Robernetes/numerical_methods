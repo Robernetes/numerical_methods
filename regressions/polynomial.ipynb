{
 "cells": [
  {
   "cell_type": "code",
   "execution_count": 156,
   "metadata": {},
   "outputs": [],
   "source": [
    "import pandas as pd\n",
    "from tabulate import tabulate\n",
    "import numpy as np\n",
    "from math import sqrt\n"
   ]
  },
  {
   "cell_type": "code",
   "execution_count": 157,
   "metadata": {},
   "outputs": [],
   "source": [
    "# CHANGE VALUES OF x and y HERE!\n",
    "x = [0,1,2,3,4,5]\n",
    "y = [2.1,7.7,13.6,27.2,40.9,61.1]"
   ]
  },
  {
   "cell_type": "code",
   "execution_count": 158,
   "metadata": {},
   "outputs": [
    {
     "name": "stdout",
     "output_type": "stream",
     "text": [
      "+----+-----+------+\n",
      "|    |   x |    y |\n",
      "|----+-----+------|\n",
      "|  0 |   0 |  2.1 |\n",
      "|  1 |   1 |  7.7 |\n",
      "|  2 |   2 | 13.6 |\n",
      "|  3 |   3 | 27.2 |\n",
      "|  4 |   4 | 40.9 |\n",
      "|  5 |   5 | 61.1 |\n",
      "+----+-----+------+\n"
     ]
    }
   ],
   "source": [
    "data = pd.DataFrame(list(zip(x,y)), columns=['x','y'])\n",
    "print(tabulate(data, headers='keys', tablefmt='psql'))\n"
   ]
  },
  {
   "cell_type": "code",
   "execution_count": 159,
   "metadata": {},
   "outputs": [],
   "source": [
    "# Columns\n",
    "x2 = list(map(lambda x: x**2, x))\n",
    "x3 = list(map(lambda x: x**3, x))\n",
    "x4 = list(map(lambda x: x**4, x))\n",
    "xy = list(map(lambda x,y: x*y, x,y))\n",
    "x2y = list(map(lambda x,y: x**2*y, x,y))\n",
    "\n",
    "n = len(x)\n",
    "m = 2\n",
    "\n",
    "# Totals\n",
    "total_x = sum(x)\n",
    "total_y = sum(y)\n",
    "total_x2 = sum(x2)\n",
    "total_x3 = sum(x3)\n",
    "total_x4 = sum(x4)\n",
    "total_xy = sum(xy)\n",
    "total_x2y = sum(x2y)\n",
    "\n",
    "\n",
    "prom_y = total_y/len(y)\n",
    "\n",
    "y_ym2 = list(map(lambda y: (y - prom_y)**2, y))\n",
    "\n"
   ]
  },
  {
   "cell_type": "code",
   "execution_count": 160,
   "metadata": {},
   "outputs": [],
   "source": [
    "#Por si necesita la totalidad por filas\n",
    "\n",
    "#data.loc[:,'Total Filas'] = data.sum(numeric_only=True, axis=1)\n",
    "#print(tabulate(data, headers='keys', tablefmt='psql'))"
   ]
  },
  {
   "cell_type": "code",
   "execution_count": 161,
   "metadata": {},
   "outputs": [
    {
     "name": "stdout",
     "output_type": "stream",
     "text": [
      "[[ 152.6]\n",
      " [ 585.6]\n",
      " [2488.8]]\n"
     ]
    }
   ],
   "source": [
    "# Vector\n",
    "vector = np.array([[total_y],[total_xy],[total_x2y]])\n",
    "print(vector)"
   ]
  },
  {
   "cell_type": "code",
   "execution_count": 162,
   "metadata": {},
   "outputs": [
    {
     "name": "stdout",
     "output_type": "stream",
     "text": [
      "[[  6  15  55]\n",
      " [ 15  55 225]\n",
      " [ 55 225 979]]\n"
     ]
    }
   ],
   "source": [
    "# Matrix\n",
    "matrix = np.array([[n,total_x,total_x2],[total_x,total_x2,total_x3],[total_x2,total_x3,total_x4]])\n",
    "print(matrix)"
   ]
  },
  {
   "cell_type": "code",
   "execution_count": 163,
   "metadata": {},
   "outputs": [
    {
     "name": "stdout",
     "output_type": "stream",
     "text": [
      "[[ 0.82142857 -0.58928571  0.08928571]\n",
      " [-0.58928571  0.72678571 -0.13392857]\n",
      " [ 0.08928571 -0.13392857  0.02678571]]\n"
     ]
    }
   ],
   "source": [
    "# Inverse matrix\n",
    "matrix_inv = np.linalg.inv(matrix) #MATRIZ INVERSA\n",
    "print(matrix_inv)"
   ]
  },
  {
   "cell_type": "code",
   "execution_count": 164,
   "metadata": {},
   "outputs": [
    {
     "name": "stdout",
     "output_type": "stream",
     "text": [
      "[2.47857143] [2.35928571] [1.86071429]\n"
     ]
    }
   ],
   "source": [
    "a_0 = np.matmul(matrix_inv,vector)[0] #A0\n",
    "a_1 = np.matmul(matrix_inv,vector)[1] #A1\n",
    "a_2 = np.matmul(matrix_inv,vector)[2] #A1\n",
    "print(a_0,a_1,a_2)"
   ]
  },
  {
   "cell_type": "code",
   "execution_count": 165,
   "metadata": {},
   "outputs": [
    {
     "name": "stdout",
     "output_type": "stream",
     "text": [
      "[0.1433163265304394, 1.0028591836738152, 1.081599999999795, 0.8048653061224611, 0.619593877551183, 0.09433673469373775]\n"
     ]
    }
   ],
   "source": [
    "last_colunma = []\n",
    "last_colunm = list(map(lambda x,y,x2: (y-a_0-a_1*x-a_2*x2)**2, x,y,x2))\n",
    "\n",
    "for i in last_colunm:\n",
    "    last_colunma.append(i[0])\n",
    "\n",
    "total_last_columna = sum(last_colunma)\n",
    "print(last_colunma)"
   ]
  },
  {
   "cell_type": "code",
   "execution_count": 166,
   "metadata": {},
   "outputs": [
    {
     "name": "stdout",
     "output_type": "stream",
     "text": [
      "+----+-----+------+-------+-------+-------+-------+---------+-------------+------------------------+\n",
      "|    |   x |    y |   x^2 |   x^3 |   x^4 |   x*y |   x^2*y |   (y-y*m)^2 |   (y-a0-a1*x-a2*x^2)^2 |\n",
      "|----+-----+------+-------+-------+-------+-------+---------+-------------+------------------------|\n",
      "|  0 |   0 |  2.1 |     0 |     0 |     0 |   0   |     0   |   544.444   |              0.143316  |\n",
      "|  1 |   1 |  7.7 |     1 |     1 |     1 |   7.7 |     7.7 |   314.471   |              1.00286   |\n",
      "|  2 |   2 | 13.6 |     4 |     8 |    16 |  27.2 |    54.4 |   140.028   |              1.0816    |\n",
      "|  3 |   3 | 27.2 |     9 |    27 |    81 |  81.6 |   244.8 |     3.12111 |              0.804865  |\n",
      "|  4 |   4 | 40.9 |    16 |    64 |   256 | 163.6 |   654.4 |   239.218   |              0.619594  |\n",
      "|  5 |   5 | 61.1 |    25 |   125 |   625 | 305.5 |  1527.5 |  1272.11    |              0.0943367 |\n",
      "+----+-----+------+-------+-------+-------+-------+---------+-------------+------------------------+\n"
     ]
    }
   ],
   "source": [
    "data = pd.DataFrame(list(zip(x,y,x2,x3,x4,xy,x2y,y_ym2,last_colunma)), columns=['x','y','x^2','x^3','x^4','x*y','x^2*y','(y-y*m)^2','(y-a0-a1*x-a2*x^2)^2'])\n",
    "print(tabulate(data, headers='keys', tablefmt='psql'))"
   ]
  },
  {
   "cell_type": "code",
   "execution_count": 167,
   "metadata": {},
   "outputs": [
    {
     "name": "stdout",
     "output_type": "stream",
     "text": [
      "+-------+-----+-------+-------+-------+-------+-------+---------+-------------+------------------------+\n",
      "|       |   x |     y |   x^2 |   x^3 |   x^4 |   x*y |   x^2*y |   (y-y*m)^2 |   (y-a0-a1*x-a2*x^2)^2 |\n",
      "|-------+-----+-------+-------+-------+-------+-------+---------+-------------+------------------------|\n",
      "| 0     |   0 |   2.1 |     0 |     0 |     0 |   0   |     0   |   544.444   |              0.143316  |\n",
      "| 1     |   1 |   7.7 |     1 |     1 |     1 |   7.7 |     7.7 |   314.471   |              1.00286   |\n",
      "| 2     |   2 |  13.6 |     4 |     8 |    16 |  27.2 |    54.4 |   140.028   |              1.0816    |\n",
      "| 3     |   3 |  27.2 |     9 |    27 |    81 |  81.6 |   244.8 |     3.12111 |              0.804865  |\n",
      "| 4     |   4 |  40.9 |    16 |    64 |   256 | 163.6 |   654.4 |   239.218   |              0.619594  |\n",
      "| 5     |   5 |  61.1 |    25 |   125 |   625 | 305.5 |  1527.5 |  1272.11    |              0.0943367 |\n",
      "| Total |  15 | 152.6 |    55 |   225 |   979 | 585.6 |  2488.8 |  2513.39    |              3.74657   |\n",
      "+-------+-----+-------+-------+-------+-------+-------+---------+-------------+------------------------+\n"
     ]
    }
   ],
   "source": [
    "data.loc['Total']= data.sum(numeric_only=True, axis=0)\n",
    "print(tabulate(data, headers='keys', tablefmt='psql'))"
   ]
  },
  {
   "cell_type": "code",
   "execution_count": 168,
   "metadata": {},
   "outputs": [],
   "source": [
    "#Por si necesita la totalidad por filas\n",
    "\n",
    "#data.loc[:,'Total Filas'] = data.sum(numeric_only=True, axis=1)\n",
    "#print(tabulate(data, headers='keys', tablefmt='psql'))"
   ]
  },
  {
   "cell_type": "code",
   "execution_count": 169,
   "metadata": {},
   "outputs": [
    {
     "name": "stdout",
     "output_type": "stream",
     "text": [
      "y = 2.4785714285712004+2.359285714285761x+1.8607142857142946x^2\n"
     ]
    }
   ],
   "source": [
    "# final equation\n",
    "y_final = (f'y = {a_0[0]}+{a_1[0]}x+{a_2[0]}x^2')\n",
    "print(y_final)"
   ]
  },
  {
   "cell_type": "code",
   "execution_count": 170,
   "metadata": {},
   "outputs": [
    {
     "name": "stdout",
     "output_type": "stream",
     "text": [
      "1.1175227706213167\n"
     ]
    }
   ],
   "source": [
    "# STANDARD ERROR\n",
    "standard_error = sqrt(total_last_columna/(n-(m+1)))\n",
    "print(standard_error)"
   ]
  },
  {
   "cell_type": "code",
   "execution_count": 171,
   "metadata": {},
   "outputs": [
    {
     "name": "stdout",
     "output_type": "stream",
     "text": [
      "0.9984946273591404\n"
     ]
    }
   ],
   "source": [
    "# coefficient of determination\n",
    "det_coe = (total_x2y - total_last_columna)/total_x2y\n",
    "print(det_coe)"
   ]
  }
 ],
 "metadata": {
  "interpreter": {
   "hash": "4bd62d0b6c44f2358aecd23e585511665d02eda023f62cb5a7d01040aac4f43b"
  },
  "kernelspec": {
   "display_name": "Python 3.9.7 64-bit ('data': conda)",
   "language": "python",
   "name": "python3"
  },
  "language_info": {
   "codemirror_mode": {
    "name": "ipython",
    "version": 3
   },
   "file_extension": ".py",
   "mimetype": "text/x-python",
   "name": "python",
   "nbconvert_exporter": "python",
   "pygments_lexer": "ipython3",
   "version": "3.9.7"
  },
  "orig_nbformat": 4
 },
 "nbformat": 4,
 "nbformat_minor": 2
}
