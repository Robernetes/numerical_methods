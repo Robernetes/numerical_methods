{
 "cells": [
  {
   "cell_type": "code",
   "execution_count": 44,
   "metadata": {},
   "outputs": [],
   "source": [
    "import numpy as np\n"
   ]
  },
  {
   "cell_type": "code",
   "execution_count": 45,
   "metadata": {},
   "outputs": [
    {
     "name": "stdout",
     "output_type": "stream",
     "text": [
      "[[   1    1    1  200]\n",
      " [  16   50   80 7500]\n",
      " [   1   -1   -1    0]]\n"
     ]
    }
   ],
   "source": [
    "#eq = np.array([[2,1,-1,8],[-3,-1,2,-11],[-2,1,2,-3]])\n",
    "eq = np.array([[1,1,1,200],[16,50,80,7500],[1,-1,-1,0]])\n",
    "print(eq)"
   ]
  },
  {
   "cell_type": "code",
   "execution_count": 46,
   "metadata": {},
   "outputs": [
    {
     "name": "stdout",
     "output_type": "stream",
     "text": [
      "[[    1     1     1   200]\n",
      " [    0   -34   -64 -4300]\n",
      " [    1    -1    -1     0]]\n"
     ]
    }
   ],
   "source": [
    "eq = np.array([   [ eq[0,0],eq[0,1],eq[0,2],eq[0,3] ], \n",
    "                  [ eq[1,0]*eq[0,0]-eq[0,0]*eq[1,0], eq[1,0]*eq[0,1]-eq[0,0]*eq[1,1] , eq[1,0]*eq[0,2]-eq[0,0]*eq[1,2] , eq[1,0]*eq[0,3]-eq[0,0]*eq[1,3]  ]  , \n",
    "                  [ eq[2,0],eq[2,1],eq[2,2],eq[2,3] ]  ])\n",
    "print(eq)"
   ]
  },
  {
   "cell_type": "code",
   "execution_count": 47,
   "metadata": {},
   "outputs": [
    {
     "name": "stdout",
     "output_type": "stream",
     "text": [
      "[[    1     1     1   200]\n",
      " [    0   -34   -64 -4300]\n",
      " [    0     2     2   200]]\n"
     ]
    }
   ],
   "source": [
    "eq = np.array([    [ eq[0,0],eq[0,1],eq[0,2],eq[0,3] ],  \n",
    "                   [  eq[1,0],eq[1,1],eq[1,2],eq[1,3]  ]  ,  \n",
    "                   [  eq[2,0]*eq[0,0]-eq[0,0]*eq[2,0], eq[2,0]*eq[0,1]-eq[0,0]*eq[2,1],  eq[2,0]*eq[0,2]-eq[0,0]*eq[2,2] ,  eq[2,0]*eq[0,3]-eq[0,0]*eq[2,3] ]  ])\n",
    "print(eq)"
   ]
  },
  {
   "cell_type": "code",
   "execution_count": 48,
   "metadata": {},
   "outputs": [
    {
     "name": "stdout",
     "output_type": "stream",
     "text": [
      "[[    1     1     1   200]\n",
      " [    0   -34   -64 -4300]\n",
      " [    0     0   -60 -1800]]\n"
     ]
    }
   ],
   "source": [
    "eq = np.array([   [ eq[0,0],eq[0,1],eq[0,2],eq[0,3] ] ,   \n",
    "                  [ eq[1,0],eq[1,1],eq[1,2],eq[1,3] ] ,   \n",
    "                  [ eq[2,0],   eq[2,1]*eq[1,1]-eq[1,1]*eq[2,1],    eq[2,1]*eq[1,2]-eq[1,1]*eq[2,2],     eq[2,1]*eq[1,3]-eq[1,1]*eq[2,3]  ]        ])\n",
    "print(eq)"
   ]
  },
  {
   "cell_type": "code",
   "execution_count": 49,
   "metadata": {},
   "outputs": [],
   "source": [
    "if eq[2,2] == 0:\n",
    "    print(\"Don't have solution\")\n",
    "else:\n",
    "    z = eq[2,3]/eq[2,2]\n",
    "    y = (eq[1,3]-eq[1,2]*z)/eq[1,1]\n",
    "    x = (eq[0,3]-eq[0,2]*z-eq[0,1]*y)/eq[0,0]\n"
   ]
  },
  {
   "cell_type": "code",
   "execution_count": 50,
   "metadata": {},
   "outputs": [
    {
     "name": "stdout",
     "output_type": "stream",
     "text": [
      "x = 100.0\n",
      "y = 70.0\n",
      "z = 30.0\n"
     ]
    }
   ],
   "source": [
    "print(f'x = {x}')\n",
    "print(f'y = {y}')\n",
    "print(f'z = {z}')"
   ]
  }
 ],
 "metadata": {
  "interpreter": {
   "hash": "4bd62d0b6c44f2358aecd23e585511665d02eda023f62cb5a7d01040aac4f43b"
  },
  "kernelspec": {
   "display_name": "Python 3.9.7 64-bit ('data': conda)",
   "language": "python",
   "name": "python3"
  },
  "language_info": {
   "codemirror_mode": {
    "name": "ipython",
    "version": 3
   },
   "file_extension": ".py",
   "mimetype": "text/x-python",
   "name": "python",
   "nbconvert_exporter": "python",
   "pygments_lexer": "ipython3",
   "version": "3.9.7"
  },
  "orig_nbformat": 4
 },
 "nbformat": 4,
 "nbformat_minor": 2
}
