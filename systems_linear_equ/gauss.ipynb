{
 "cells": [
  {
   "cell_type": "code",
   "execution_count": 54,
   "metadata": {},
   "outputs": [],
   "source": [
    "import numpy as np\n",
    "from tabulate import tabulate\n"
   ]
  },
  {
   "cell_type": "code",
   "execution_count": 55,
   "metadata": {},
   "outputs": [
    {
     "name": "stdout",
     "output_type": "stream",
     "text": [
      "+----+----+----+------+\n",
      "|  1 |  1 |  1 |  200 |\n",
      "| 16 | 50 | 80 | 7500 |\n",
      "|  1 | -1 | -1 |    0 |\n",
      "+----+----+----+------+\n"
     ]
    }
   ],
   "source": [
    "#eq = np.array([[2,1,-1,8],[-3,-1,2,-11],[-2,1,2,-3]])\n",
    "eq = np.array([[1,1,1,200],[16,50,80,7500],[1,-1,-1,0]])\n",
    "print(tabulate(eq, tablefmt='psql'))"
   ]
  },
  {
   "cell_type": "code",
   "execution_count": 56,
   "metadata": {},
   "outputs": [
    {
     "name": "stdout",
     "output_type": "stream",
     "text": [
      "+---+-----+-----+-------+\n",
      "| 1 |   1 |   1 |   200 |\n",
      "| 0 | -34 | -64 | -4300 |\n",
      "| 1 |  -1 |  -1 |     0 |\n",
      "+---+-----+-----+-------+\n"
     ]
    }
   ],
   "source": [
    "eq = np.array([   [ eq[0,0],eq[0,1],eq[0,2],eq[0,3] ], \n",
    "                  [ eq[1,0]*eq[0,0]-eq[0,0]*eq[1,0], eq[1,0]*eq[0,1]-eq[0,0]*eq[1,1] , eq[1,0]*eq[0,2]-eq[0,0]*eq[1,2] , eq[1,0]*eq[0,3]-eq[0,0]*eq[1,3]  ]  , \n",
    "                  [ eq[2,0],eq[2,1],eq[2,2],eq[2,3] ]  ])\n",
    "print(tabulate(eq, tablefmt='psql'))"
   ]
  },
  {
   "cell_type": "code",
   "execution_count": 57,
   "metadata": {},
   "outputs": [
    {
     "name": "stdout",
     "output_type": "stream",
     "text": [
      "+---+-----+-----+-------+\n",
      "| 1 |   1 |   1 |   200 |\n",
      "| 0 | -34 | -64 | -4300 |\n",
      "| 0 |   2 |   2 |   200 |\n",
      "+---+-----+-----+-------+\n"
     ]
    }
   ],
   "source": [
    "eq = np.array([    [ eq[0,0],eq[0,1],eq[0,2],eq[0,3] ],  \n",
    "                   [  eq[1,0],eq[1,1],eq[1,2],eq[1,3]  ]  ,  \n",
    "                   [  eq[2,0]*eq[0,0]-eq[0,0]*eq[2,0], eq[2,0]*eq[0,1]-eq[0,0]*eq[2,1],  eq[2,0]*eq[0,2]-eq[0,0]*eq[2,2] ,  eq[2,0]*eq[0,3]-eq[0,0]*eq[2,3] ]  ])\n",
    "print(tabulate(eq, tablefmt='psql'))"
   ]
  },
  {
   "cell_type": "code",
   "execution_count": 58,
   "metadata": {},
   "outputs": [
    {
     "name": "stdout",
     "output_type": "stream",
     "text": [
      "+---+-----+-----+-------+\n",
      "| 1 |   1 |   1 |   200 |\n",
      "| 0 | -34 | -64 | -4300 |\n",
      "| 0 |   0 | -60 | -1800 |\n",
      "+---+-----+-----+-------+\n"
     ]
    }
   ],
   "source": [
    "eq = np.array([   [ eq[0,0],eq[0,1],eq[0,2],eq[0,3] ] ,   \n",
    "                  [ eq[1,0],eq[1,1],eq[1,2],eq[1,3] ] ,   \n",
    "                  [ eq[2,0],   eq[2,1]*eq[1,1]-eq[1,1]*eq[2,1],    eq[2,1]*eq[1,2]-eq[1,1]*eq[2,2],     eq[2,1]*eq[1,3]-eq[1,1]*eq[2,3]  ]        ])\n",
    "print(tabulate(eq, tablefmt='psql'))"
   ]
  },
  {
   "cell_type": "code",
   "execution_count": 59,
   "metadata": {},
   "outputs": [],
   "source": [
    "if eq[2,2] == 0:\n",
    "    print(\"Don't have solution\")\n",
    "else:\n",
    "    z = eq[2,3]/eq[2,2]\n",
    "    y = (eq[1,3]-eq[1,2]*z)/eq[1,1]\n",
    "    x = (eq[0,3]-eq[0,2]*z-eq[0,1]*y)/eq[0,0]\n"
   ]
  },
  {
   "cell_type": "code",
   "execution_count": 72,
   "metadata": {},
   "outputs": [
    {
     "name": "stdout",
     "output_type": "stream",
     "text": [
      "╒═══╤═════╕\n",
      "│ x │ 100 │\n",
      "├───┼─────┤\n",
      "│ y │  70 │\n",
      "├───┼─────┤\n",
      "│ z │  30 │\n",
      "╘═══╧═════╛\n"
     ]
    }
   ],
   "source": [
    "result = [[\"x\",x],[\"y\",y],[\"z\",z]]\n",
    "print(tabulate(result, tablefmt='fancy_grid'))"
   ]
  }
 ],
 "metadata": {
  "interpreter": {
   "hash": "4bd62d0b6c44f2358aecd23e585511665d02eda023f62cb5a7d01040aac4f43b"
  },
  "kernelspec": {
   "display_name": "Python 3.9.7 64-bit ('data': conda)",
   "language": "python",
   "name": "python3"
  },
  "language_info": {
   "codemirror_mode": {
    "name": "ipython",
    "version": 3
   },
   "file_extension": ".py",
   "mimetype": "text/x-python",
   "name": "python",
   "nbconvert_exporter": "python",
   "pygments_lexer": "ipython3",
   "version": "3.9.7"
  },
  "orig_nbformat": 4
 },
 "nbformat": 4,
 "nbformat_minor": 2
}
