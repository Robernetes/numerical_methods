{
 "cells": [
  {
   "cell_type": "code",
   "execution_count": 159,
   "metadata": {},
   "outputs": [],
   "source": [
    "import numpy as np\n",
    "from tabulate import tabulate"
   ]
  },
  {
   "cell_type": "code",
   "execution_count": 160,
   "metadata": {},
   "outputs": [
    {
     "name": "stdout",
     "output_type": "stream",
     "text": [
      "+----+----+---+----+\n",
      "|  2 | -1 | 3 |  5 |\n",
      "|  2 |  2 | 3 |  7 |\n",
      "| -2 |  3 | 0 | -3 |\n",
      "+----+----+---+----+\n"
     ]
    }
   ],
   "source": [
    "matrix = np.array([  [2,-1,3,5],[2,2,3,7],[-2,3,0,-3]  ])\n",
    "print(tabulate(matrix, tablefmt='psql'))"
   ]
  },
  {
   "cell_type": "code",
   "execution_count": 161,
   "metadata": {},
   "outputs": [
    {
     "name": "stdout",
     "output_type": "stream",
     "text": [
      "+---+------+-----+-----+\n",
      "| 1 | -0.5 | 1.5 | 2.5 |\n",
      "| 0 |  3   | 0   | 2   |\n",
      "| 0 |  2   | 3   | 2   |\n",
      "+---+------+-----+-----+\n"
     ]
    }
   ],
   "source": [
    "matriz = np.empty((3,4))\n",
    "for x in range(matrix.shape[0]):\n",
    "    for j in range(matrix.shape[1]):\n",
    "        if x == 0:\n",
    "            matriz[x][j] = matrix[x][j]/matrix[0][0]\n",
    "        if x == 1:        \n",
    "            matriz[x][j] = -matrix[1][0]*matriz[0][j]+matrix[1][j]\n",
    "        if x == 2:\n",
    "            matriz[x][j] = -matrix[2][0]*matriz[0][j]+matrix[2][j]\n",
    "    \n",
    "\n",
    "print(tabulate(matriz, tablefmt='psql'))"
   ]
  },
  {
   "cell_type": "code",
   "execution_count": 162,
   "metadata": {},
   "outputs": [
    {
     "name": "stdout",
     "output_type": "stream",
     "text": [
      "+---+------+-----+----------+\n",
      "| 1 | -0.5 | 1.5 | 2.5      |\n",
      "| 0 |  1   | 0   | 0.666667 |\n",
      "| 0 |  2   | 3   | 2        |\n",
      "+---+------+-----+----------+\n"
     ]
    }
   ],
   "source": [
    "matriz1 = np.empty((3,4))\n",
    "for x in range(matrix.shape[0]):\n",
    "    for j in range(matrix.shape[1]):\n",
    "        #if x == 0:\n",
    "            #matriz1[x][j] = -matriz[0][1]*matriz1[1][j]+matriz1[0][j]\n",
    "        if x == 1:        \n",
    "            matriz1[x][j] = matriz[x][j]/matriz[1][1]\n",
    "        #if x == 2:\n",
    "            #matriz1[x][j] = -matriz[2][1]*matriz1[1][j]+matrix[1][j]\n",
    "    \n",
    "\n",
    "print(tabulate(matriz1, tablefmt='psql'))"
   ]
  },
  {
   "cell_type": "code",
   "execution_count": 163,
   "metadata": {},
   "outputs": [
    {
     "name": "stdout",
     "output_type": "stream",
     "text": [
      "+---+---+-----+----------+\n",
      "| 1 | 0 | 1.5 | 2.83333  |\n",
      "| 0 | 1 | 0   | 0.666667 |\n",
      "| 0 | 0 | 3   | 0.666667 |\n",
      "+---+---+-----+----------+\n"
     ]
    }
   ],
   "source": [
    "matriz1 = np.empty((3,4))\n",
    "for x in range(matrix.shape[0]):\n",
    "    for j in range(matrix.shape[1]):\n",
    "        if x == 0:\n",
    "            matriz1[x][j] = -matriz[0][1]*matriz1[1][j]+matriz[0][j]\n",
    "        if x == 1:        \n",
    "            matriz1[x][j] = matriz[x][j]/matriz[1][1]\n",
    "        if x == 2:\n",
    "            matriz1[x][j] = -matriz[2][1]*matriz1[1][j]+matriz[2][j]\n",
    "    \n",
    "\n",
    "print(tabulate(matriz1, tablefmt='psql'))\n"
   ]
  },
  {
   "cell_type": "code",
   "execution_count": 164,
   "metadata": {},
   "outputs": [
    {
     "name": "stdout",
     "output_type": "stream",
     "text": [
      "+---+------+-----+----------+\n",
      "| 1 | -0.5 | 1.5 | 2.5      |\n",
      "| 0 |  1   | 0   | 0.666667 |\n",
      "| 0 |  0   | 1   | 0.222222 |\n",
      "+---+------+-----+----------+\n"
     ]
    }
   ],
   "source": [
    "matriz2 = np.empty((3,4))\n",
    "for x in range(matrix.shape[0]):\n",
    "    for j in range(matrix.shape[1]):\n",
    "        # if x == 0:\n",
    "        #     matriz2[x][j] = -matriz[0][2]*matriz1[1][j]+matriz[0][j]\n",
    "        # if x == 1:        \n",
    "        #     matriz2[x][j] = matriz[x][j]/matriz[1][1]\n",
    "        if x == 2:\n",
    "            matriz2[x][j] = matriz1[2][j]/matriz[2][2]\n",
    "    \n",
    "\n",
    "print(tabulate(matriz2, tablefmt='psql'))\n"
   ]
  },
  {
   "cell_type": "code",
   "execution_count": 165,
   "metadata": {},
   "outputs": [
    {
     "name": "stdout",
     "output_type": "stream",
     "text": [
      "+---+---+---+----------+\n",
      "| 1 | 0 | 0 | 2.5      |\n",
      "| 0 | 1 | 0 | 0.666667 |\n",
      "| 0 | 0 | 1 | 0.222222 |\n",
      "+---+---+---+----------+\n"
     ]
    }
   ],
   "source": [
    "matriz2 = np.empty((3,4))\n",
    "for x in range(matrix.shape[0]):\n",
    "    for j in range(matrix.shape[1]):\n",
    "        if x == 0:\n",
    "            matriz2[x][j] = -matriz[0][2]*matriz2[2][j]+matriz1[0][j]\n",
    "        if x == 1:        \n",
    "            matriz2[x][j] = matriz1[1][2]*matriz2[2][j]+matriz1[1][j]\n",
    "        if x == 2:\n",
    "            matriz2[x][j] = matriz1[2][j]/matriz[2][2]\n",
    "    \n",
    "\n",
    "print(tabulate(matriz2, tablefmt='psql'))\n"
   ]
  },
  {
   "cell_type": "code",
   "execution_count": 166,
   "metadata": {},
   "outputs": [
    {
     "name": "stdout",
     "output_type": "stream",
     "text": [
      "╒═══╤══════════╕\n",
      "│ x │ 2.5      │\n",
      "├───┼──────────┤\n",
      "│ y │ 0.666667 │\n",
      "├───┼──────────┤\n",
      "│ z │ 0.222222 │\n",
      "╘═══╧══════════╛\n"
     ]
    }
   ],
   "source": [
    "result = [[\"x\",matriz2[0][3]],[\"y\",matriz2[1][3]],[\"z\",matriz2[2][3]]]\n",
    "print(tabulate(result, tablefmt='fancy_grid'))"
   ]
  }
 ],
 "metadata": {
  "interpreter": {
   "hash": "4bd62d0b6c44f2358aecd23e585511665d02eda023f62cb5a7d01040aac4f43b"
  },
  "kernelspec": {
   "display_name": "Python 3.9.7 64-bit ('data': conda)",
   "language": "python",
   "name": "python3"
  },
  "language_info": {
   "codemirror_mode": {
    "name": "ipython",
    "version": 3
   },
   "file_extension": ".py",
   "mimetype": "text/x-python",
   "name": "python",
   "nbconvert_exporter": "python",
   "pygments_lexer": "ipython3",
   "version": "3.9.7"
  },
  "orig_nbformat": 4
 },
 "nbformat": 4,
 "nbformat_minor": 2
}
