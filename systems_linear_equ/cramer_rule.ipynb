{
 "cells": [
  {
   "cell_type": "code",
   "execution_count": 74,
   "metadata": {},
   "outputs": [],
   "source": [
    "import numpy as np"
   ]
  },
  {
   "cell_type": "code",
   "execution_count": 75,
   "metadata": {},
   "outputs": [],
   "source": [
    "def extendmatrix(matrix):\n",
    "    matrix_ampli = np.array([  [matrix[0,0],matrix[0,1],matrix[0,2]],\n",
    "        [matrix[1,0],matrix[1,1],matrix[1,2]], [matrix[2,0],matrix[2,1],matrix[2,2] ],  \n",
    "        [matrix[0,0],matrix[0,1],matrix[0,2]],  [matrix[1,0],matrix[1,1],matrix[1,2]]    ])\n",
    "    return matrix_ampli\n",
    "\n",
    "def multi(matrix):\n",
    "    print(f'[ ({matrix[0,0]}*{matrix[1,1]}*{matrix[2,2]})+({matrix[1,0]}*{matrix[2,1]}*{matrix[3,2]})+({matrix[2,0]}*{matrix[3,1]}*{matrix[4,2]}) ] - [ ({matrix[0,2]}*{matrix[1,1]}*{matrix[2,0]})+({matrix[1,2]}*{matrix[2,1]}*{matrix[3,0]})+({matrix[2,2]}*{matrix[3,1]}*{matrix[4,0]}) ]') \n",
    "    print(f'[ ({matrix[0,0]*matrix[1,1]*matrix[2,2]})+({matrix[1,0]*matrix[2,1]*matrix[3,2]})+({matrix[2,0]*matrix[3,1]*matrix[4,2]}) ] - [ ({matrix[0,2]*matrix[1,1]*matrix[2,0]})+({matrix[1,2]*matrix[2,1]*matrix[3,0]})+({matrix[2,2]*matrix[3,1]*matrix[4,0]}) ]') \n",
    "    print(f' {(matrix[0,0]*matrix[1,1]*matrix[2,2])+(matrix[1,0]*matrix[2,1]*matrix[3,2])+(matrix[2,0]*matrix[3,1]*matrix[4,2])}  -  {(matrix[0,2]*matrix[1,1]*matrix[2,0])+(matrix[1,2]*matrix[2,1]*matrix[3,0])+(matrix[2,2]*matrix[3,1]*matrix[4,0])} ') \n",
    "    print(f' {(((matrix[0,0]*matrix[1,1]*matrix[2,2])+(matrix[1,0]*matrix[2,1]*matrix[3,2])+(matrix[2,0]*matrix[3,1]*matrix[4,2]))  -  ((matrix[0,2]*matrix[1,1]*matrix[2,0])+(matrix[1,2]*matrix[2,1]*matrix[3,0])+(matrix[2,2]*matrix[3,1]*matrix[4,0])))} ') \n",
    "    res = (((matrix[0,0]*matrix[1,1]*matrix[2,2])+(matrix[1,0]*matrix[2,1]*matrix[3,2])+(matrix[2,0]*matrix[3,1]*matrix[4,2]))  -  ((matrix[0,2]*matrix[1,1]*matrix[2,0])+(matrix[1,2]*matrix[2,1]*matrix[3,0])+(matrix[2,2]*matrix[3,1]*matrix[4,0]))) \n",
    "    return res\n"
   ]
  },
  {
   "cell_type": "code",
   "execution_count": 76,
   "metadata": {},
   "outputs": [
    {
     "name": "stdout",
     "output_type": "stream",
     "text": [
      "Sarrus Rule, determinat\n",
      "Matrix\n",
      "[[ 2  1 -1  1]\n",
      " [ 1 -2  2  3]\n",
      " [ 3 -2  1  2]]\n",
      "-------------------------\n",
      "Coefiient matrix\n",
      "[[ 2  1 -1]\n",
      " [ 1 -2  2]\n",
      " [ 3 -2  1]]\n"
     ]
    }
   ],
   "source": [
    "print(\"Sarrus Rule, determinat\")\n",
    "\n",
    "\n",
    "#matrix = np.array([ [3,2,1,2], [-2,1,-7,0], [3,-1,8,2]  ])\n",
    "# REPLACE MATRIX HERE!\n",
    "matrix = np.array([ [2,1,-1,1], [1,-2,2,3], [3,-2,1,2]  ])\n",
    "\n",
    "matrix_coe = np.array([  [matrix[0,0],matrix[0,1],matrix[0,2]],\n",
    "    [matrix[1,0],matrix[1,1],matrix[1,2]], [matrix[2,0],matrix[2,1],matrix[2,2]    ] ])\n",
    "\n",
    "print('Matrix')\n",
    "print(matrix)\n",
    "print('-------------------------')\n",
    "print('Coefiient matrix')\n",
    "print(matrix_coe)"
   ]
  },
  {
   "cell_type": "code",
   "execution_count": 77,
   "metadata": {},
   "outputs": [
    {
     "name": "stdout",
     "output_type": "stream",
     "text": [
      "-------------------------\n",
      "Extended matrix\n",
      "[[ 2  1 -1]\n",
      " [ 1 -2  2]\n",
      " [ 3 -2  1]\n",
      " [ 2  1 -1]\n",
      " [ 1 -2  2]]\n",
      "\n",
      "[ (2*-2*1)+(1*-2*-1)+(3*1*2) ] - [ (-1*-2*3)+(2*-2*2)+(1*1*1) ]\n",
      "[ (-4)+(2)+(6) ] - [ (6)+(-8)+(1) ]\n",
      " 4  -  -1 \n",
      " 5 \n"
     ]
    }
   ],
   "source": [
    "matrix_coe_ampli = extendmatrix(matrix_coe)\n",
    "\n",
    "print('-------------------------')\n",
    "print('Extended matrix')\n",
    "print(f'{matrix_coe_ampli}')\n",
    "print()\n",
    "d = multi(matrix_coe_ampli)"
   ]
  },
  {
   "cell_type": "code",
   "execution_count": 78,
   "metadata": {},
   "outputs": [
    {
     "name": "stdout",
     "output_type": "stream",
     "text": [
      "\n",
      "Matrix Dx\n",
      "[[ 1  1 -1]\n",
      " [ 3 -2  2]\n",
      " [ 2 -2  1]]\n",
      "-------------------------\n",
      "Matrix Dx extend\n",
      "[[ 1  1 -1]\n",
      " [ 3 -2  2]\n",
      " [ 2 -2  1]\n",
      " [ 1  1 -1]\n",
      " [ 3 -2  2]]\n",
      "\n",
      "[ (1*-2*1)+(3*-2*-1)+(2*1*2) ] - [ (-1*-2*2)+(2*-2*1)+(1*1*3) ]\n",
      "[ (-2)+(6)+(4) ] - [ (4)+(-4)+(3) ]\n",
      " 8  -  3 \n",
      " 5 \n",
      "\n",
      "Dx/D=5/5=1.0\n"
     ]
    }
   ],
   "source": [
    "\n",
    "# D_x\n",
    "print('')\n",
    "matrix_dx = np.array([  [matrix[0,3],matrix[0,1],matrix[0,2]],\n",
    "    [matrix[1,3],matrix[1,1],matrix[1,2]], [matrix[2,3],matrix[2,1],matrix[2,2]  ] ])\n",
    "\n",
    "print('Matrix Dx')\n",
    "print(matrix_dx)\n",
    "\n",
    "matrix_dx_ampli = extendmatrix(matrix_dx)\n",
    "\n",
    "print('-------------------------')\n",
    "print('Matrix Dx extend')\n",
    "print(matrix_dx_ampli)\n",
    "print()\n",
    "dx = multi(matrix_dx_ampli)\n",
    "print()\n",
    "print(f'Dx/D={dx}/{d}={dx/d}')"
   ]
  },
  {
   "cell_type": "code",
   "execution_count": 79,
   "metadata": {},
   "outputs": [
    {
     "name": "stdout",
     "output_type": "stream",
     "text": [
      "\n",
      "Matrix Dy\n",
      "[[ 2  1 -1]\n",
      " [ 1  3  2]\n",
      " [ 3  2  1]]\n",
      "-------------------------\n",
      "Matrix Dy extend\n",
      "[[ 2  1 -1]\n",
      " [ 1  3  2]\n",
      " [ 3  2  1]\n",
      " [ 2  1 -1]\n",
      " [ 1  3  2]]\n",
      "\n",
      "[ (2*3*1)+(1*2*-1)+(3*1*2) ] - [ (-1*3*3)+(2*2*2)+(1*1*1) ]\n",
      "[ (6)+(-2)+(6) ] - [ (-9)+(8)+(1) ]\n",
      " 10  -  0 \n",
      " 10 \n",
      "\n",
      "Dy/D=10/5=2.0\n"
     ]
    }
   ],
   "source": [
    "# D_y\n",
    "print('')\n",
    "matrix_dy = np.array([  [matrix[0,0],matrix[0,3],matrix[0,2]],\n",
    "    [matrix[1,0],matrix[1,3],matrix[1,2]], [matrix[2,0],matrix[2,3],matrix[2,2]  ] ])\n",
    "\n",
    "print('Matrix Dy')\n",
    "print(matrix_dy)\n",
    "\n",
    "matrix_dy_ampli = extendmatrix(matrix_dy)\n",
    "\n",
    "print('-------------------------')\n",
    "print('Matrix Dy extend')\n",
    "print(matrix_dy_ampli)\n",
    "print()\n",
    "dy = multi(matrix_dy_ampli)\n",
    "print()\n",
    "print(f'Dy/D={dy}/{d}={dy/d}')"
   ]
  },
  {
   "cell_type": "code",
   "execution_count": 80,
   "metadata": {},
   "outputs": [
    {
     "name": "stdout",
     "output_type": "stream",
     "text": [
      "\n",
      "Matrix D_z\n",
      "[[ 2  1  1]\n",
      " [ 1 -2  3]\n",
      " [ 3 -2  2]]\n",
      "-------------------------\n",
      "Matrix D_z extend\n",
      "[[ 2  1  1]\n",
      " [ 1 -2  3]\n",
      " [ 3 -2  2]\n",
      " [ 2  1  1]\n",
      " [ 1 -2  3]]\n",
      "\n",
      "[ (2*-2*2)+(1*-2*1)+(3*1*3) ] - [ (1*-2*3)+(3*-2*2)+(2*1*1) ]\n",
      "[ (-8)+(-2)+(9) ] - [ (-6)+(-12)+(2) ]\n",
      " -1  -  -16 \n",
      " 15 \n",
      "\n",
      "Dz/D=15/5=3.0\n"
     ]
    }
   ],
   "source": [
    "\n",
    "# D_z\n",
    "print('')\n",
    "matrix_dz = np.array([  [matrix[0,0],matrix[0,1],matrix[0,3]],\n",
    "    [matrix[1,0],matrix[1,1],matrix[1,3]], [matrix[2,0],matrix[2,1],matrix[2,3]  ] ])\n",
    "\n",
    "print('Matrix D_z')\n",
    "print(matrix_dz)\n",
    "\n",
    "matrix_dz_ampli = extendmatrix(matrix_dz)\n",
    "\n",
    "print('-------------------------')\n",
    "print('Matrix D_z extend')\n",
    "print(matrix_dz_ampli)\n",
    "print()\n",
    "dz = multi(matrix_dz_ampli)\n",
    "print()\n",
    "print(f'Dz/D={dz}/{d}={dz/d}')"
   ]
  },
  {
   "cell_type": "code",
   "execution_count": 81,
   "metadata": {},
   "outputs": [
    {
     "name": "stdout",
     "output_type": "stream",
     "text": [
      "\n",
      "-------------------------------\n",
      "RESULTS...\n",
      "x = 1.0\n",
      "y = 2.0\n",
      "z = 3.0\n"
     ]
    }
   ],
   "source": [
    "print()\n",
    "print('-------------------------------')\n",
    "print('RESULTS...')\n",
    "print(f'x = {dx/d}')\n",
    "print(f'y = {dy/d}')\n",
    "print(f'z = {dz/d}')"
   ]
  }
 ],
 "metadata": {
  "interpreter": {
   "hash": "4bd62d0b6c44f2358aecd23e585511665d02eda023f62cb5a7d01040aac4f43b"
  },
  "kernelspec": {
   "display_name": "Python 3.9.9 ('data')",
   "language": "python",
   "name": "python3"
  },
  "language_info": {
   "codemirror_mode": {
    "name": "ipython",
    "version": 3
   },
   "file_extension": ".py",
   "mimetype": "text/x-python",
   "name": "python",
   "nbconvert_exporter": "python",
   "pygments_lexer": "ipython3",
   "version": "3.9.9"
  },
  "orig_nbformat": 4
 },
 "nbformat": 4,
 "nbformat_minor": 2
}
