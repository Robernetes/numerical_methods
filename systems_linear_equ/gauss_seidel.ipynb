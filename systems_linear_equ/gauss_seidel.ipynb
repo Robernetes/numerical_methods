{
 "cells": [
  {
   "cell_type": "markdown",
   "metadata": {},
   "source": [
    "## Gauss Seidel"
   ]
  },
  {
   "cell_type": "code",
   "execution_count": 408,
   "metadata": {},
   "outputs": [],
   "source": [
    "import numpy as np\n",
    "import pandas as pd\n",
    "from tabulate import tabulate"
   ]
  },
  {
   "cell_type": "code",
   "execution_count": 409,
   "metadata": {},
   "outputs": [
    {
     "name": "stdout",
     "output_type": "stream",
     "text": [
      "[[  3.    -0.1   -0.2    7.85]\n",
      " [  0.1    7.    -0.3  -19.3 ]\n",
      " [  0.3   -0.2   10.    71.4 ]]\n"
     ]
    }
   ],
   "source": [
    "matrix = np.array([  [3,-0.1,-0.2,7.85], [0.1,7,-0.3,-19.3], [0.3,-0.2,10,71.4] ])\n",
    "\n",
    "print(matrix)"
   ]
  },
  {
   "cell_type": "code",
   "execution_count": 410,
   "metadata": {},
   "outputs": [],
   "source": [
    "n = 1000\n",
    "xc = []\n",
    "yc = []\n",
    "zc = []\n",
    "x = []\n",
    "y = []\n",
    "z = []\n",
    "e_rx = []\n",
    "e_ry = []\n",
    "e_rz = []\n"
   ]
  },
  {
   "cell_type": "code",
   "execution_count": 411,
   "metadata": {},
   "outputs": [],
   "source": [
    "\n",
    "for i in range(n):\n",
    "    if i == 0:\n",
    "        x.append(0)\n",
    "        y.append(0)\n",
    "        z.append(0)\n",
    "        e_rx.append(0)\n",
    "        e_ry.append(0)\n",
    "        e_rz.append(0)\n",
    "        xc.append((matrix[0][3]-(matrix[0][1])*y[i]-(matrix[0][2])*z[i])/matrix[0][0])\n",
    "        yc.append((matrix[1][3]-(matrix[1][0])*xc[i]-(matrix[1][2])*z[i])/matrix[1][1])\n",
    "        zc.append((matrix[2][3]-(matrix[2][0])*xc[i]-(matrix[2][1])*yc[i])/matrix[2][2])\n",
    "    if i > 0:\n",
    "        x.append(xc[i-1])\n",
    "        y.append(yc[i-1])\n",
    "        z.append(zc[i-1])\n",
    "        xc.append((matrix[0][3]-(matrix[0][1])*y[i]-(matrix[0][2])*z[i])/matrix[0][0])\n",
    "        yc.append((matrix[1][3]-(matrix[1][0])*xc[i]-(matrix[1][2])*z[i])/matrix[1][1])\n",
    "        zc.append((matrix[2][3]-(matrix[2][0])*xc[i]-(matrix[2][1])*yc[i])/matrix[2][2])\n",
    "        e_rx.append(abs((xc[i]-xc[i-1])/xc[i])*100)\n",
    "        e_ry.append(abs((yc[i]-yc[i-1])/yc[i])*100)\n",
    "        e_rz.append(abs((zc[i]-zc[i-1])/zc[i])*100)\n",
    "        previous_x = x[i-1]\n",
    "        previous_y = y[i-1]\n",
    "        previous_z = z[i-1]\n",
    "        current_x = x[i]\n",
    "        current_y = y[i]\n",
    "        current_z = z[i]\n",
    "\n",
    "        if (previous_x == current_x) or (previous_y == current_y) or (previous_z == current_z):  \n",
    "            break    \n",
    "       \n"
   ]
  },
  {
   "cell_type": "code",
   "execution_count": 412,
   "metadata": {},
   "outputs": [
    {
     "name": "stdout",
     "output_type": "stream",
     "text": [
      "+----+---------+----------+---------+---------+----------+---------+--------------+--------------+-------------+\n",
      "|    |       x |        y |       z |       ꭔ |        ŷ |       ž |         E_rx |         E_ry |        E_rz |\n",
      "|----+---------+----------+---------+---------+----------+---------+--------------+--------------+-------------|\n",
      "|  0 | 0       |  0       | 0       | 2.61667 | -2.79452 | 7.00561 |  0           |  0           | 0           |\n",
      "|  1 | 2.61667 | -2.79452 | 7.00561 | 2.99056 | -2.49962 | 7.00029 | 12.5023      | 11.7977      | 0.0759785   |\n",
      "|  2 | 2.99056 | -2.49962 | 7.00029 | 3.00003 | -2.49999 | 7       |  0.315843    |  0.0145324   | 0.00416468  |\n",
      "|  3 | 3.00003 | -2.49999 | 7       | 3       | -2.5     | 7       |  0.00105151  |  0.000481736 | 1.00785e-05 |\n",
      "|  4 | 3       | -2.5     | 7       | 3       | -2.5     | 7       |  1.18138e-05 |  1.41194e-06 | 1.61977e-07 |\n",
      "|  5 | 3       | -2.5     | 7       | 3       | -2.5     | 7       |  6.4417e-08  |  1.83329e-08 | 6.97296e-10 |\n",
      "|  6 | 3       | -2.5     | 7       | 3       | -2.5     | 7       |  4.00791e-10 |  9.05587e-11 | 5.79854e-12 |\n",
      "|  7 | 3       | -2.5     | 7       | 3       | -2.5     | 7       |  3.43429e-12 |  6.39488e-13 | 3.80648e-14 |\n",
      "|  8 | 3       | -2.5     | 7       | 3       | -2.5     | 7       |  0           |  1.77636e-14 | 0           |\n",
      "|  9 | 3       | -2.5     | 7       | 3       | -2.5     | 7       |  0           |  0           | 0           |\n",
      "+----+---------+----------+---------+---------+----------+---------+--------------+--------------+-------------+\n"
     ]
    }
   ],
   "source": [
    "df = pd.DataFrame(list(zip(x,y,z,xc,yc,zc,e_rx,e_ry,e_rz)), columns=['x','y','z','ꭔ','ŷ','ž','E_rx','E_ry','E_rz'])\n",
    "#df = df.round(decimals=4)\n",
    "print(tabulate(df, headers='keys', tablefmt='psql'))\n"
   ]
  }
 ],
 "metadata": {
  "interpreter": {
   "hash": "4bd62d0b6c44f2358aecd23e585511665d02eda023f62cb5a7d01040aac4f43b"
  },
  "kernelspec": {
   "display_name": "Python 3.9.7 64-bit ('data': conda)",
   "language": "python",
   "name": "python3"
  },
  "language_info": {
   "codemirror_mode": {
    "name": "ipython",
    "version": 3
   },
   "file_extension": ".py",
   "mimetype": "text/x-python",
   "name": "python",
   "nbconvert_exporter": "python",
   "pygments_lexer": "ipython3",
   "version": "3.9.7"
  },
  "orig_nbformat": 4
 },
 "nbformat": 4,
 "nbformat_minor": 2
}
