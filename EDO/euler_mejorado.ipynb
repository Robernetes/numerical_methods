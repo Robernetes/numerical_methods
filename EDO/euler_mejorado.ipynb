{
 "cells": [
  {
   "cell_type": "markdown",
   "metadata": {},
   "source": [
    "## Improved Euler Method"
   ]
  },
  {
   "cell_type": "code",
   "execution_count": 11,
   "metadata": {},
   "outputs": [],
   "source": [
    "from math import *\n",
    "import pandas as pd \n",
    "from tabulate import tabulate\n",
    "\n",
    "#fun = 'cos(2*x)'\n",
    "#fun_sol = 'sin(2*x)/2'\n",
    "\n",
    "fun = input('Enter the functions: ')\n",
    "option = input('The function has solution function? y/n: ')\n",
    "if option == 'y':\n",
    "    fun_sol = input('Enter function solution: ')\n",
    "else:\n",
    "    fun_sol = ''\n"
   ]
  },
  {
   "cell_type": "code",
   "execution_count": 12,
   "metadata": {},
   "outputs": [],
   "source": [
    "x_0 = 0  # x sub cero\n",
    "y_0 = 0  #condicion inicial\n",
    "x_n = 2  \n",
    "h = 0.125\n",
    "\n",
    "x_i = []\n",
    "y_i = []\n",
    "fx = []\n",
    "er = []\n",
    "\n",
    "laps = int(x_n/h)"
   ]
  },
  {
   "cell_type": "code",
   "execution_count": 13,
   "metadata": {},
   "outputs": [],
   "source": [
    "\n",
    "fn = lambda x,y: eval(fun) #PRINCIPAL FUNCTION\n",
    "fn_sol = lambda x: eval(fun_sol) #SOLUTION FUNCTION\n",
    "eum = lambda x,y,h: y + h * ((fn(x,y) + fn(x + h, y + h * fn(x,y)))/2) #"
   ]
  },
  {
   "cell_type": "code",
   "execution_count": 14,
   "metadata": {},
   "outputs": [],
   "source": [
    "j = 0\n",
    "x = 0\n",
    "y = 0\n",
    "\n",
    "for item in range(laps+1):\n",
    "    if item == 0:\n",
    "        x_i.append(x_0)\n",
    "        y_i.append(y_0)\n",
    "        fx.append(item)\n",
    "        er.append(item)\n",
    "    if item > 0:\n",
    "        x_i.append(j)\n",
    "        x = x_i[item-1]\n",
    "        y = y_i[item-1]\n",
    "        y_i.append(eum(x,y,h))\n",
    "        if option == 'y':\n",
    "            fx.append(fn_sol(j))\n",
    "            er.append(abs(((fx[item]-y_i[item])/fx[item])))\n",
    "    j+=h"
   ]
  },
  {
   "cell_type": "code",
   "execution_count": 15,
   "metadata": {},
   "outputs": [
    {
     "name": "stdout",
     "output_type": "stream",
     "text": [
      "+----+-------+------------+---------------+------------+\n",
      "|    |   x_i |        y_i |   Funtion Sol |      error |\n",
      "|----+-------+------------+---------------+------------|\n",
      "|  0 | 0     |  0         |     0         | 0          |\n",
      "|  1 | 0.125 |  0.123057  |     0.123702  | 0.00521377 |\n",
      "|  2 | 0.25  |  0.238463  |     0.239713  | 0.00521377 |\n",
      "|  3 | 0.375 |  0.339042  |     0.340819  | 0.00521377 |\n",
      "|  4 | 0.5   |  0.418542  |     0.420735  | 0.00521377 |\n",
      "|  5 | 0.625 |  0.472018  |     0.474492  | 0.00521377 |\n",
      "|  6 | 0.75  |  0.496147  |     0.498747  | 0.00521377 |\n",
      "|  7 | 0.875 |  0.489428  |     0.491993  | 0.00521377 |\n",
      "|  8 | 1     |  0.452278  |     0.454649  | 0.00521377 |\n",
      "|  9 | 1.125 |  0.387008  |     0.389037  | 0.00521377 |\n",
      "| 10 | 1.25  |  0.297676  |     0.299236  | 0.00521377 |\n",
      "| 11 | 1.375 |  0.189836  |     0.19083   | 0.00521377 |\n",
      "| 12 | 1.5   |  0.0701921 |     0.07056   | 0.00521377 |\n",
      "| 13 | 1.625 | -0.0538155 |    -0.0540976 | 0.00521377 |\n",
      "| 14 | 1.75  | -0.174477  |    -0.175392  | 0.00521377 |\n",
      "| 15 | 1.875 | -0.284291  |    -0.285781  | 0.00521377 |\n",
      "| 16 | 2     | -0.376428  |    -0.378401  | 0.00521377 |\n",
      "+----+-------+------------+---------------+------------+\n"
     ]
    }
   ],
   "source": [
    "\n",
    "if option == 'y':\n",
    "    datafinal = pd.DataFrame(list(zip(x_i,y_i,fx,er)), columns=['x_i','y_i','Funtion Sol','error'])\n",
    "    print(tabulate(datafinal, headers = 'keys', tablefmt = 'psql'))\n",
    "else:\n",
    "    datafinal = pd.DataFrame(list(zip(x_i,y_i)), columns=['x_i','y_i'])\n",
    "    print(tabulate(datafinal, headers = 'keys', tablefmt = 'psql'))\n",
    "\n"
   ]
  }
 ],
 "metadata": {
  "interpreter": {
   "hash": "4bd62d0b6c44f2358aecd23e585511665d02eda023f62cb5a7d01040aac4f43b"
  },
  "kernelspec": {
   "display_name": "Python 3.9.7 64-bit ('data': conda)",
   "language": "python",
   "name": "python3"
  },
  "language_info": {
   "codemirror_mode": {
    "name": "ipython",
    "version": 3
   },
   "file_extension": ".py",
   "mimetype": "text/x-python",
   "name": "python",
   "nbconvert_exporter": "python",
   "pygments_lexer": "ipython3",
   "version": "3.9.7"
  },
  "orig_nbformat": 4
 },
 "nbformat": 4,
 "nbformat_minor": 2
}
