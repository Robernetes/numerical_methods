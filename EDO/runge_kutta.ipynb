{
 "cells": [
  {
   "cell_type": "code",
   "execution_count": 1,
   "metadata": {},
   "outputs": [],
   "source": [
    "from math import *\n",
    "import pandas as pd \n",
    "from tabulate import tabulate\n",
    "\n",
    "fun = 'cos(2*x)'\n",
    "fun_sol = 'sin(2*x)/2'\n",
    "option = 'y' # 'y' if the function has a solution or 'n' if not \n",
    "\n",
    "# fun = input('Enter the functions: ')\n",
    "# option = input('The function has solution function? y/n: ')\n",
    "# if option == 'y':\n",
    "#     fun_sol = input('Enter function solution: ')\n",
    "# else:\n",
    "#     fun_sol = ''\n"
   ]
  },
  {
   "cell_type": "code",
   "execution_count": 2,
   "metadata": {},
   "outputs": [],
   "source": [
    "x_0 = 0  # x sub cero\n",
    "y_0 = 0  #condicion inicial\n",
    "x_n = 2 \n",
    "h = 0.25\n",
    "\n",
    "x_i = []\n",
    "y_i = []\n",
    "fx = []\n",
    "er = []\n",
    "\n",
    "k_1 = []\n",
    "k_2 = []\n",
    "k_3 = []\n",
    "k_4 = []\n",
    "\n",
    "laps = int(x_n/h)"
   ]
  },
  {
   "cell_type": "code",
   "execution_count": 3,
   "metadata": {},
   "outputs": [],
   "source": [
    "fn = lambda x,y: eval(fun) #PRINCIPAL FUNCTION\n",
    "fn_sol = lambda x: eval(fun_sol) #SOLUTION FUNCTION\n",
    "eum = lambda x,y,h: y + h * ((fn(x,y) + fn(x + h, y + h * fn(x,y)))/2) #"
   ]
  },
  {
   "cell_type": "code",
   "execution_count": 4,
   "metadata": {},
   "outputs": [],
   "source": [
    "\n",
    "j = 0\n",
    "\n",
    "for item in range(laps+1):\n",
    "    if item == 0:\n",
    "        x_i.append(x_0)\n",
    "        y_i.append(y_0)\n",
    "        k_1.append(item)\n",
    "        k_2.append(item)\n",
    "        k_3.append(item)\n",
    "        k_4.append(item)\n",
    "        fx.append(item)\n",
    "        er.append(item)\n",
    "    if item > 0:\n",
    "        x_i.append(j)\n",
    "        k_1.append(fn(x_i[item-1], y_i[item-1]))\n",
    "        k_2.append(fn(x_i[item-1]+0.5*h,y_i[item-1]+0.5*h*k_1[item]))\n",
    "        k_3.append(fn(x_i[item-1]+0.5*h,y_i[item-1]+0.5*h*k_2[item]))\n",
    "        k_4.append(fn(x_i[item-1]+h,y_i[item-1]+k_3[item]*h))\n",
    "        y_i.append(y_i[item-1]+(h/6)*(k_1[item]+2*k_2[item]+2*k_3[item]+k_4[item]))\n",
    "        if option == 'y':\n",
    "            fx.append(fn_sol(j))\n",
    "            er.append((fx[item]-y_i[item])/fx[item])\n",
    "\n",
    "        #y_i.append(y_i[item-1]+(h/6)())\n",
    "\n",
    "    j+=h"
   ]
  },
  {
   "cell_type": "code",
   "execution_count": 5,
   "metadata": {},
   "outputs": [
    {
     "name": "stdout",
     "output_type": "stream",
     "text": [
      "+----+-------+------------+-----------+-----------+------------+------------+-----------+--------------+\n",
      "|    |   x_i |        k_1 |       k_2 |       k_3 |        k_4 |        y_i |        fx |          err |\n",
      "|----+-------+------------+-----------+-----------+------------+------------+-----------+--------------|\n",
      "|  0 |  0    |  0         |  0        |  0        |  0         |  0         |  0        |  0           |\n",
      "|  1 |  0.25 |  1         |  0.968912 |  0.968912 |  0.877583  |  0.239718  |  0.239713 | -2.18639e-05 |\n",
      "|  2 |  0.5  |  0.877583  |  0.731689 |  0.731689 |  0.540302  |  0.420745  |  0.420735 | -2.18639e-05 |\n",
      "|  3 |  0.75 |  0.540302  |  0.315322 |  0.315322 |  0.0707372 |  0.498758  |  0.498747 | -2.18639e-05 |\n",
      "|  4 |  1    |  0.0707372 | -0.178246 | -0.178246 | -0.416147  |  0.454659  |  0.454649 | -2.18639e-05 |\n",
      "|  5 |  1.25 | -0.416147  | -0.628174 | -0.628174 | -0.801144  |  0.299243  |  0.299236 | -2.18639e-05 |\n",
      "|  6 |  1.5  | -0.801144  | -0.924302 | -0.924302 | -0.989992  |  0.0705615 |  0.07056  | -2.18639e-05 |\n",
      "|  7 |  1.75 | -0.989992  | -0.99413  | -0.99413  | -0.936457  | -0.175395  | -0.175392 | -2.18639e-05 |\n",
      "|  8 |  2    | -0.936457  | -0.820559 | -0.820559 | -0.653644  | -0.37841   | -0.378401 | -2.18639e-05 |\n",
      "+----+-------+------------+-----------+-----------+------------+------------+-----------+--------------+\n"
     ]
    }
   ],
   "source": [
    "if option == 'y':\n",
    "    datafinal = pd.DataFrame(list(zip(x_i,k_1,k_2,k_3,k_4,y_i,fx,er)),columns=['x_i','k_1','k_2','k_3','k_4','y_i','fx','err'])\n",
    "    print(tabulate(datafinal, headers = 'keys', tablefmt = 'psql'))\n",
    "if option == 'n':\n",
    "    datafinal = pd.DataFrame(list(zip(x_i,k_1,k_2,k_3,k_4,y_i)),columns=['x_i','k_1','k_2','k_3','k_4','y_i'])\n",
    "    print(tabulate(datafinal, headers = 'keys', tablefmt = 'psql'))\n",
    "#datafinal = pd.DataFrame(list(zip(x_i,y_i)), columns=['x_i','y_i'])"
   ]
  }
 ],
 "metadata": {
  "interpreter": {
   "hash": "4bd62d0b6c44f2358aecd23e585511665d02eda023f62cb5a7d01040aac4f43b"
  },
  "kernelspec": {
   "display_name": "Python 3.9.7 64-bit ('data': conda)",
   "language": "python",
   "name": "python3"
  },
  "language_info": {
   "codemirror_mode": {
    "name": "ipython",
    "version": 3
   },
   "file_extension": ".py",
   "mimetype": "text/x-python",
   "name": "python",
   "nbconvert_exporter": "python",
   "pygments_lexer": "ipython3",
   "version": "3.9.7"
  },
  "orig_nbformat": 4
 },
 "nbformat": 4,
 "nbformat_minor": 2
}
