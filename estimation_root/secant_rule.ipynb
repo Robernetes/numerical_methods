{
 "cells": [
  {
   "cell_type": "code",
   "execution_count": 28,
   "metadata": {},
   "outputs": [],
   "source": [
    "from sympy import * \n",
    "\n",
    "\n",
    "x = symbols('x')\n",
    "\n",
    "# Put your equation here \n",
    "eq = 'sqrt(x)-2.25'\n",
    "\n",
    "# Range x_1=initial and x0=final\n",
    "x_1 = 3.5\n",
    "x0 = 4\n",
    "\n",
    "# Error here\n",
    "err = float(5.0625)\n",
    "xn = 0.1\n",
    "\n",
    "\n"
   ]
  },
  {
   "cell_type": "code",
   "execution_count": 29,
   "metadata": {},
   "outputs": [
    {
     "name": "stdout",
     "output_type": "stream",
     "text": [
      "-1.61754446796632\n"
     ]
    }
   ],
   "source": [
    "f = lambda x: eval(eq)\n",
    "print(f(0.4))\n"
   ]
  },
  {
   "cell_type": "code",
   "execution_count": 30,
   "metadata": {},
   "outputs": [
    {
     "name": "stdout",
     "output_type": "stream",
     "text": [
      "f(3.5)=-0.379171306613029, f(4)=-0.250000000000000\n",
      "x1=4.96770717334674\n",
      "-----------------------------------------------------\n",
      "f(4)=-0.250000000000000, f(4.96770717334674)=-0.0211646150182507\n",
      "x2=5.0572\n",
      "Error=1.76956498537329\n",
      "-----------------------------------------------------\n",
      "f(4.96770717334674)=-0.0211646150182507, f(5.0572)=-0.00117862630203991\n",
      "x3=5.0625\n",
      "Error=0.10474\n",
      "-----------------------------------------------------\n"
     ]
    }
   ],
   "source": [
    "fxn = 9999\n",
    "cont = 0\n",
    "errors = []\n",
    "while xn != err:\n",
    "    if cont == 0:\n",
    "\n",
    "        xn_n = x0\n",
    "        print(f'f({x_1})={f(float(x_1))}, f({x0})={f(float(x0))}')\n",
    "        xn = xn_n - ( (f(x0) * (x_1-x0)) / (f(x_1) - f(x0)) )\n",
    "        errors.append(xn)\n",
    "\n",
    "        print(f'x{cont+1}={xn}')\n",
    "    if cont > 0:\n",
    "        x_1 = x0\n",
    "        x0 = xn\n",
    "        xn_n = xn\n",
    "\n",
    "        print(f'f({x_1})={f(float(x_1))}, f({x0})={f(float(x0))}')\n",
    "        xn = round(xn_n - ( (f(x0) * (x_1-x0)) / (f(x_1) - f(x0)) ),4  )\n",
    "        errors.append(xn)\n",
    "\n",
    "        print(f'x{cont+1}={xn}')\n",
    "        er =  ((xn - errors[cont-1])/xn)*100\n",
    "        print(f'Error={er}')\n",
    "  \n",
    "\n",
    "    print('-----------------------------------------------------')\n",
    "    cont += 1\n",
    "        \n",
    "    \n",
    "    \n",
    "    \n",
    "    "
   ]
  }
 ],
 "metadata": {
  "interpreter": {
   "hash": "4bd62d0b6c44f2358aecd23e585511665d02eda023f62cb5a7d01040aac4f43b"
  },
  "kernelspec": {
   "display_name": "Python 3.9.7 64-bit ('data': conda)",
   "language": "python",
   "name": "python3"
  },
  "language_info": {
   "codemirror_mode": {
    "name": "ipython",
    "version": 3
   },
   "file_extension": ".py",
   "mimetype": "text/x-python",
   "name": "python",
   "nbconvert_exporter": "python",
   "pygments_lexer": "ipython3",
   "version": "3.9.7"
  },
  "orig_nbformat": 4
 },
 "nbformat": 4,
 "nbformat_minor": 2
}
