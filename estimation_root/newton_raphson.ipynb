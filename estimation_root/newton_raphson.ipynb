{
 "cells": [
  {
   "cell_type": "code",
   "execution_count": 82,
   "metadata": {},
   "outputs": [],
   "source": [
    "from math import exp\n",
    "from sympy import *\n",
    "from time import sleep\n",
    "\n",
    "x = symbols('x')\n",
    "eq = '2*cos(x)-1'\n",
    "x_n = 0.5\n",
    "er = 0.1\n",
    "\n"
   ]
  },
  {
   "cell_type": "code",
   "execution_count": 83,
   "metadata": {},
   "outputs": [
    {
     "name": "stdout",
     "output_type": "stream",
     "text": [
      "-2*sin(x)\n"
     ]
    }
   ],
   "source": [
    "f = lambda x: eval(eq)\n",
    "fp = Derivative(eval(eq),x).doit()\n",
    "f1 = lambda x: eval(str(fp))\n",
    "print(fp)\n"
   ]
  },
  {
   "cell_type": "code",
   "execution_count": 84,
   "metadata": {},
   "outputs": [
    {
     "name": "stdout",
     "output_type": "stream",
     "text": [
      "x1=0.5-(f(0.5)/f'(0.5)\n",
      "Er=(1.28757290024571-0.5)/1.28757290024571\n",
      "x1=1.28757290024571\n",
      "Er=61.1672473143396\n",
      "-------------------------\n",
      "x2=1.28757290024571-(f(1.28757290024571)/f'(1.28757290024571)\n",
      "Er=(1.05787369927725-1.28757290024571)/1.05787369927725\n",
      "x2=1.05787369927725\n",
      "Er=21.7132915890994\n",
      "-------------------------\n",
      "x3=1.05787369927725-(f(1.05787369927725)/f'(1.05787369927725)\n",
      "Er=(1.04722985062713-1.05787369927725)/1.04722985062713\n",
      "x3=1.04722985062713\n",
      "Er=1.01638132676800\n",
      "-------------------------\n",
      "x4=1.04722985062713-(f(1.04722985062713)/f'(1.04722985062713)\n",
      "Er=(1.04719755149774-1.04722985062713)/1.04719755149774\n",
      "x4=1.04719755149774\n",
      "Er=0.00308433965914122\n",
      "-------------------------\n"
     ]
    }
   ],
   "source": [
    "er_actual = 9999\n",
    "cont = 0\n",
    "while(er_actual > er):\n",
    "    if er_actual == 9999:\n",
    "        x_n_prev = x_n\n",
    "        print(f'x{cont+1}={x_n}-(f({x_n})/f\\'({x_n})')\n",
    "        x_n = x_n - (f(x_n) / f1(x_n))\n",
    "        \n",
    "        er_actual = abs(((x_n - x_n_prev)/x_n))*100\n",
    "        print(f'Er=({x_n}-{x_n_prev})/{x_n}')\n",
    "\n",
    "        print(f'x{cont+1}={x_n}')\n",
    "        print(f'Er={er_actual}')\n",
    "        print('-------------------------')\n",
    "    else:\n",
    "        x_n_prev = x_n\n",
    "        print(f'x{cont+1}={x_n}-(f({x_n})/f\\'({x_n})')\n",
    "        x_n = x_n - (f(x_n) / f1(x_n))\n",
    "        er_actual = abs(((x_n - x_n_prev)/x_n))*100\n",
    "        print(f'Er=({x_n}-{x_n_prev})/{x_n}')\n",
    "\n",
    "        print(f'x{cont+1}={x_n}')\n",
    "        print(f'Er={er_actual}')\n",
    "\n",
    "        print('-------------------------')\n",
    "    cont += 1\n",
    "    #sleep(1)\n"
   ]
  }
 ],
 "metadata": {
  "interpreter": {
   "hash": "4bd62d0b6c44f2358aecd23e585511665d02eda023f62cb5a7d01040aac4f43b"
  },
  "kernelspec": {
   "display_name": "Python 3.9.7 64-bit ('data': conda)",
   "language": "python",
   "name": "python3"
  },
  "language_info": {
   "codemirror_mode": {
    "name": "ipython",
    "version": 3
   },
   "file_extension": ".py",
   "mimetype": "text/x-python",
   "name": "python",
   "nbconvert_exporter": "python",
   "pygments_lexer": "ipython3",
   "version": "3.9.7"
  },
  "orig_nbformat": 4
 },
 "nbformat": 4,
 "nbformat_minor": 2
}
