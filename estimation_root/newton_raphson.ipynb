{
 "cells": [
  {
   "cell_type": "code",
   "execution_count": 1,
   "metadata": {},
   "outputs": [],
   "source": [
    "from math import exp\n",
    "from sympy import *\n",
    "\n",
    "\n",
    "x = symbols('x')\n",
    "eq = '(1-0.6*x)/x'\n",
    "x_n = 1.0\n",
    "er = 0.1\n",
    "\n"
   ]
  },
  {
   "cell_type": "code",
   "execution_count": 2,
   "metadata": {},
   "outputs": [
    {
     "name": "stdout",
     "output_type": "stream",
     "text": [
      "-0.6/x - (1 - 0.6*x)/x**2\n"
     ]
    }
   ],
   "source": [
    "f = lambda x: eval(eq)\n",
    "fp = Derivative(eval(eq),x).doit()\n",
    "f1 = lambda x: eval(str(fp))\n",
    "print(fp)\n"
   ]
  },
  {
   "cell_type": "code",
   "execution_count": 3,
   "metadata": {},
   "outputs": [
    {
     "name": "stdout",
     "output_type": "stream",
     "text": [
      "x1=1.0-(f(1.0)/f'(1.0)\n",
      "Er=(1.6667-1.4)/1.6667\n",
      "x1=1.4\n",
      "Er=16.00167996640068\n",
      "-------------------------\n",
      "x2=1.4-(f(1.4)/f'(1.4)\n",
      "Er=(1.6239999999999999-1.4)/1.6239999999999999\n",
      "x2=1.6239999999999999\n",
      "Er=13.793103448275861\n",
      "-------------------------\n",
      "x3=1.6239999999999999-(f(1.6239999999999999)/f'(1.6239999999999999)\n",
      "Er=(1.6655744-1.6239999999999999)/1.6655744\n",
      "x3=1.6655744\n",
      "Er=2.4960998439937607\n",
      "-------------------------\n",
      "x4=1.6655744-(f(1.6655744)/f'(1.6655744)\n",
      "Er=(1.666665950838784-1.6655744)/1.666665950838784\n",
      "x4=1.666665950838784\n",
      "Er=0.06549307845610867\n",
      "-------------------------\n"
     ]
    }
   ],
   "source": [
    "# Si no tiene un error inicial coloque 9999 en la variable er_actual\n",
    "# If you don't have an initial error put 9999 in the variable er_actual\n",
    "er_actual = 1.6667\n",
    "\n",
    "cont = 0\n",
    "while(er_actual > er):\n",
    "    if er_actual == 9999:\n",
    "        x_n_prev = x_n\n",
    "        print(f'x{cont+1}={x_n}-(f({x_n})/f\\'({x_n})')\n",
    "        x_n = x_n - (f(x_n) / f1(x_n))\n",
    "        \n",
    "        er_actual = abs(((x_n - x_n_prev)/x_n))*100\n",
    "        print(f'Er=({x_n}-{x_n_prev})/{x_n}')\n",
    "\n",
    "        print(f'x{cont+1}={x_n}')\n",
    "        print(f'Er={er_actual}')\n",
    "        print('-------------------------')\n",
    "    else:\n",
    "        \n",
    "        x_n_prev = x_n\n",
    "        print(f'x{cont+1}={x_n}-(f({x_n})/f\\'({x_n})')\n",
    "        x_n = x_n - (f(x_n) / f1(x_n))\n",
    "\n",
    "        if cont == 0:\n",
    "            ok = x_n\n",
    "            x_n_curr = er_actual\n",
    "        else:\n",
    "            ok = x_n_prev\n",
    "            x_n_curr = x_n\n",
    "\n",
    "        er_actual = abs(((x_n_curr - ok)/x_n_curr))*100\n",
    "        print(f'Er=({x_n_curr}-{ok})/{x_n_curr}')\n",
    "\n",
    "        print(f'x{cont+1}={x_n}')\n",
    "        print(f'Er={er_actual}')\n",
    "\n",
    "        print('-------------------------')\n",
    "    cont += 1\n",
    "\n"
   ]
  }
 ],
 "metadata": {
  "interpreter": {
   "hash": "4bd62d0b6c44f2358aecd23e585511665d02eda023f62cb5a7d01040aac4f43b"
  },
  "kernelspec": {
   "display_name": "Python 3.9.7 64-bit ('data': conda)",
   "language": "python",
   "name": "python3"
  },
  "language_info": {
   "codemirror_mode": {
    "name": "ipython",
    "version": 3
   },
   "file_extension": ".py",
   "mimetype": "text/x-python",
   "name": "python",
   "nbconvert_exporter": "python",
   "pygments_lexer": "ipython3",
   "version": "3.9.7"
  },
  "orig_nbformat": 4
 },
 "nbformat": 4,
 "nbformat_minor": 2
}
