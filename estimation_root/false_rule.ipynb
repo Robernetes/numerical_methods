{
 "cells": [
  {
   "cell_type": "code",
   "execution_count": 49,
   "metadata": {},
   "outputs": [],
   "source": [
    "from sympy import *\n",
    "\n",
    "\n",
    "x = symbols('x')\n",
    "# Put your equation here \n",
    "eq = '(x/200)*exp((x/200)+1)-x/20'\n",
    "# Range a=initial and b=final\n",
    "a = 200\n",
    "b = 400\n",
    "\n",
    "xr = 0\n"
   ]
  },
  {
   "cell_type": "code",
   "execution_count": 50,
   "metadata": {},
   "outputs": [],
   "source": [
    "#Function\n",
    "f = lambda x: eval(eq)\n"
   ]
  },
  {
   "cell_type": "code",
   "execution_count": 51,
   "metadata": {},
   "outputs": [
    {
     "name": "stdout",
     "output_type": "stream",
     "text": [
      "f(a)=-2.61094390106935, f(b)=20.1710738463753\n",
      "xr=222.9210944352126\n",
      "f(xr)=-1.91008\n",
      "-----------------------------------------------------\n",
      "f(a)=-2.61094390106935, f(b)=-1.91008163203070\n",
      "xr=285.3886624593746\n",
      "f(xr)=1.88958\n",
      "-----------------------------------------------------\n",
      "f(a)=1.88957907583035, f(b)=-1.91008163203070\n",
      "xr=254.32341255107087\n",
      "f(xr)=-0.38776\n",
      "-----------------------------------------------------\n",
      "f(a)=1.88957907583035, f(b)=-0.387759691018738\n",
      "xr=259.61285471980466\n",
      "f(xr)=-0.05855\n",
      "-----------------------------------------------------\n",
      "f(a)=1.88957907583035, f(b)=-0.0585506931654738\n",
      "xr=260.38754202969045\n",
      "f(xr)=-0.00843\n",
      "-----------------------------------------------------\n",
      "f(a)=1.88957907583035, f(b)=-0.00842579374437591\n",
      "xr=260.4985292497422\n",
      "f(xr)=-0.0012\n",
      "-----------------------------------------------------\n",
      "f(a)=1.88957907583035, f(b)=-0.00120405640327625\n",
      "xr=260.514379361666\n",
      "f(xr)=-0.00017\n",
      "-----------------------------------------------------\n",
      "f(a)=1.88957907583035, f(b)=-0.000171888672440446\n",
      "xr=260.5166418859773\n",
      "f(xr)=-2e-05\n",
      "-----------------------------------------------------\n",
      "f(a)=1.88957907583035, f(b)=-0.0000245349673697604\n",
      "xr=260.5169648289531\n",
      "f(xr)=-0.0\n",
      "-----------------------------------------------------\n",
      "Root Found = 260.5169648289531\n"
     ]
    }
   ],
   "source": [
    "fxr = 9999\n",
    "while fxr != 0.00000:\n",
    "    print(f'f(a)={f(float(a))}, f(b)={f(float(b))}')\n",
    "    xr = b - ( (f(b) * (a-b)) / (f(a) - f(b)) )\n",
    "    \n",
    "    print(f'xr={float(xr)}')\n",
    "    fxr = round(float(f(xr)),5)\n",
    "    print(f'f(xr)={round(float(f(xr)),5)}')\n",
    "    \n",
    "    fxf = f(a)*f(b)\n",
    "    if fxf < 0:\n",
    "        b = xr\n",
    "        a = a\n",
    "    if fxf > 0:\n",
    "        a = xr\n",
    "        b = b\n",
    "    \n",
    "    print('-----------------------------------------------------')\n",
    "print(f'Root Found = {float(xr)}')\n",
    "    \n",
    "    \n",
    "    \n",
    "    "
   ]
  }
 ],
 "metadata": {
  "interpreter": {
   "hash": "4bd62d0b6c44f2358aecd23e585511665d02eda023f62cb5a7d01040aac4f43b"
  },
  "kernelspec": {
   "display_name": "Python 3.9.7 64-bit ('data': conda)",
   "language": "python",
   "name": "python3"
  },
  "language_info": {
   "codemirror_mode": {
    "name": "ipython",
    "version": 3
   },
   "file_extension": ".py",
   "mimetype": "text/x-python",
   "name": "python",
   "nbconvert_exporter": "python",
   "pygments_lexer": "ipython3",
   "version": "3.9.7"
  },
  "orig_nbformat": 4
 },
 "nbformat": 4,
 "nbformat_minor": 2
}
