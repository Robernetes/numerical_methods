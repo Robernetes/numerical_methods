{
 "cells": [
  {
   "cell_type": "code",
   "execution_count": 262,
   "metadata": {},
   "outputs": [],
   "source": [
    "import pandas as pd\n",
    "from tabulate import tabulate\n",
    "from scipy import integrate\n",
    "\n",
    "fn_string = '3*x**2' #FUNCTION HERE\n",
    "a = 1 #INITIAL POINT\n",
    "b = 4 #FINAL POINT\n",
    "h = 0.75 \n",
    "n = int((b-a)/h)\n",
    "xi = []\n",
    "fx = []\n",
    "sum_final = []\n",
    "datos = []"
   ]
  },
  {
   "cell_type": "code",
   "execution_count": 263,
   "metadata": {},
   "outputs": [],
   "source": [
    "#FUNCTION\n",
    "fn = lambda x: eval(fn_string)"
   ]
  },
  {
   "cell_type": "code",
   "execution_count": 264,
   "metadata": {},
   "outputs": [],
   "source": [
    "pairs = []\n",
    "non = []\n",
    "value = 1\n",
    "for i in range(n+1):\n",
    "    if i == 0:\n",
    "        xi.append(value)\n",
    "        fx.append(fn(value))\n",
    "        sum_final.append(fn(value))\n",
    "    if i > 0 and i < n:\n",
    "        xi.append(value)\n",
    "        if i % 2 == 0:\n",
    "            fx.append(fn(value))\n",
    "            pairs.append(fn(value))\n",
    "        else:\n",
    "            fx.append(fn(value))\n",
    "            non.append(fn(value)) \n",
    "    if i == n:\n",
    "        xi.append(value)\n",
    "        fx.append(fn(value))\n",
    "        sum_final.append(sum(pairs)*2)\n",
    "        sum_final.append(sum(non)*4)\n",
    "        sum_final.append(fn(value))\n",
    "    \n",
    "    value+=h\n",
    "    \n"
   ]
  },
  {
   "cell_type": "code",
   "execution_count": 265,
   "metadata": {},
   "outputs": [],
   "source": [
    "# DATA TABLE\n",
    "data = pd.DataFrame(list(zip(xi,fx)), columns=['xi','f(x)'])"
   ]
  },
  {
   "cell_type": "code",
   "execution_count": 266,
   "metadata": {},
   "outputs": [
    {
     "name": "stdout",
     "output_type": "stream",
     "text": [
      "+----+------+---------+\n",
      "|    |   xi |    f(x) |\n",
      "|----+------+---------|\n",
      "|  0 | 1    |  3      |\n",
      "|  1 | 1.75 |  9.1875 |\n",
      "|  2 | 2.5  | 18.75   |\n",
      "|  3 | 3.25 | 31.6875 |\n",
      "|  4 | 4    | 48      |\n",
      "+----+------+---------+\n"
     ]
    }
   ],
   "source": [
    "print(tabulate(data, headers = 'keys', tablefmt = 'psql'))"
   ]
  },
  {
   "cell_type": "code",
   "execution_count": 267,
   "metadata": {},
   "outputs": [
    {
     "name": "stdout",
     "output_type": "stream",
     "text": [
      "╒════╤════════════╕\n",
      "│    │   FinalSum │\n",
      "╞════╪════════════╡\n",
      "│  0 │        3   │\n",
      "├────┼────────────┤\n",
      "│  1 │       37.5 │\n",
      "├────┼────────────┤\n",
      "│  2 │      163.5 │\n",
      "├────┼────────────┤\n",
      "│  3 │       48   │\n",
      "╘════╧════════════╛\n"
     ]
    }
   ],
   "source": [
    "# FINAL DATA TABLE \n",
    "data_final = pd.DataFrame(sum_final, columns=['FinalSum'])\n",
    "print(tabulate(data_final, headers='keys', tablefmt = 'fancy_grid'))"
   ]
  },
  {
   "cell_type": "code",
   "execution_count": 268,
   "metadata": {},
   "outputs": [
    {
     "name": "stdout",
     "output_type": "stream",
     "text": [
      "63.0\n"
     ]
    }
   ],
   "source": [
    "# APROX RESULT\n",
    "result = (h/3)*(sum(sum_final))\n",
    "print(result)"
   ]
  },
  {
   "cell_type": "code",
   "execution_count": 269,
   "metadata": {},
   "outputs": [
    {
     "name": "stdout",
     "output_type": "stream",
     "text": [
      "63.000000000000014\n"
     ]
    }
   ],
   "source": [
    "#REAL SOLUTION\n",
    "sol_real = integrate.quad(fn,a,b)\n",
    "print(sol_real[0])"
   ]
  },
  {
   "cell_type": "code",
   "execution_count": 270,
   "metadata": {},
   "outputs": [
    {
     "name": "stdout",
     "output_type": "stream",
     "text": [
      "2.255691224635238e-14\n"
     ]
    }
   ],
   "source": [
    "# ESTIMATE ERROR\n",
    "error = abs(((sol_real[0] -result)/sol_real[0])*100)\n",
    "print(error)"
   ]
  }
 ],
 "metadata": {
  "interpreter": {
   "hash": "4bd62d0b6c44f2358aecd23e585511665d02eda023f62cb5a7d01040aac4f43b"
  },
  "kernelspec": {
   "display_name": "Python 3.9.7 64-bit ('data': conda)",
   "language": "python",
   "name": "python3"
  },
  "language_info": {
   "codemirror_mode": {
    "name": "ipython",
    "version": 3
   },
   "file_extension": ".py",
   "mimetype": "text/x-python",
   "name": "python",
   "nbconvert_exporter": "python",
   "pygments_lexer": "ipython3",
   "version": "3.9.7"
  },
  "orig_nbformat": 4
 },
 "nbformat": 4,
 "nbformat_minor": 2
}
