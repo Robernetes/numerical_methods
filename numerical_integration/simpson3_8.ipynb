{
 "cells": [
  {
   "cell_type": "code",
   "execution_count": 1,
   "metadata": {},
   "outputs": [
    {
     "name": "stdout",
     "output_type": "stream",
     "text": [
      "6\n"
     ]
    }
   ],
   "source": [
    "import pandas as pd\n",
    "from tabulate import tabulate\n",
    "from scipy import integrate\n",
    "\n",
    "fn_string = '3*x**2' #FUNCTION HERE\n",
    "a = 1 #INITIAL POINT\n",
    "b = 4 #FINAL POINT\n",
    "h = 0.5 \n",
    "n = int((b-a)/h)\n",
    "xi = []\n",
    "fx = []\n",
    "sum_final = []\n",
    "datos = []\n",
    "print(n)"
   ]
  },
  {
   "cell_type": "code",
   "execution_count": 2,
   "metadata": {},
   "outputs": [],
   "source": [
    "#FUNCTION\n",
    "fn = lambda x: eval(fn_string)"
   ]
  },
  {
   "cell_type": "code",
   "execution_count": 3,
   "metadata": {},
   "outputs": [],
   "source": [
    "others_len = 0\n",
    "for i in range(n+1):\n",
    "    if i % 3 != 0 and i > 0 and i < n:\n",
    "        others_len +=1\n"
   ]
  },
  {
   "cell_type": "code",
   "execution_count": 4,
   "metadata": {},
   "outputs": [],
   "source": [
    "mult3 = []\n",
    "others = []\n",
    "value = 1\n",
    "for i in range(n+1):\n",
    "    if i == 0:\n",
    "        xi.append(value)\n",
    "        fx.append(fn(value))\n",
    "        sum_final.append(fn(value))\n",
    "    if i % 3 == 0 and i > 0 and i < n:\n",
    "        xi.append(value)\n",
    "        fx.append(fn(value))\n",
    "        mult3.append(fn(value))\n",
    "        sum_final.append(sum(mult3)*2)            \n",
    "    elif i % 3 != 0 and i > 0 and i < n:\n",
    "        xi.append(value)\n",
    "        fx.append(fn(value))\n",
    "        others.append(fn(value))\n",
    "     \n",
    "        if len(others) == others_len:\n",
    "            sum_final.append(sum(others)*3)\n",
    "        \n",
    "    if i > 0 and i == n:\n",
    "        xi.append(value)\n",
    "        fx.append(fn(value))\n",
    "        sum_final.append(fn(value))\n",
    "\n",
    "    \n",
    "    value+=h\n",
    "    \n"
   ]
  },
  {
   "cell_type": "code",
   "execution_count": 5,
   "metadata": {},
   "outputs": [],
   "source": [
    "#sum_final.append(sum(mult3)*2)   \n",
    "#sum_final.append(sum(others)*3)"
   ]
  },
  {
   "cell_type": "code",
   "execution_count": 6,
   "metadata": {},
   "outputs": [],
   "source": [
    "# DATA TABLE\n",
    "data = pd.DataFrame(list(zip(xi,fx)), columns=['xi','f(x)'])"
   ]
  },
  {
   "cell_type": "code",
   "execution_count": 7,
   "metadata": {},
   "outputs": [
    {
     "name": "stdout",
     "output_type": "stream",
     "text": [
      "+----+------+--------+\n",
      "|    |   xi |   f(x) |\n",
      "|----+------+--------|\n",
      "|  0 |  1   |   3    |\n",
      "|  1 |  1.5 |   6.75 |\n",
      "|  2 |  2   |  12    |\n",
      "|  3 |  2.5 |  18.75 |\n",
      "|  4 |  3   |  27    |\n",
      "|  5 |  3.5 |  36.75 |\n",
      "|  6 |  4   |  48    |\n",
      "+----+------+--------+\n"
     ]
    }
   ],
   "source": [
    "print(tabulate(data, headers = 'keys', tablefmt = 'psql'))"
   ]
  },
  {
   "cell_type": "code",
   "execution_count": 8,
   "metadata": {},
   "outputs": [
    {
     "name": "stdout",
     "output_type": "stream",
     "text": [
      "[18.75] [6.75, 12.0, 27.0, 36.75]\n"
     ]
    }
   ],
   "source": [
    "print(mult3,others)"
   ]
  },
  {
   "cell_type": "code",
   "execution_count": 9,
   "metadata": {},
   "outputs": [
    {
     "name": "stdout",
     "output_type": "stream",
     "text": [
      "╒════╤════════════╕\n",
      "│    │   FinalSum │\n",
      "╞════╪════════════╡\n",
      "│  0 │        3   │\n",
      "├────┼────────────┤\n",
      "│  1 │       37.5 │\n",
      "├────┼────────────┤\n",
      "│  2 │      247.5 │\n",
      "├────┼────────────┤\n",
      "│  3 │       48   │\n",
      "╘════╧════════════╛\n"
     ]
    }
   ],
   "source": [
    "# FINAL DATA TABLE \n",
    "data_final = pd.DataFrame(sum_final, columns=['FinalSum'])\n",
    "print(tabulate(data_final, headers='keys', tablefmt = 'fancy_grid'))"
   ]
  },
  {
   "cell_type": "code",
   "execution_count": 10,
   "metadata": {},
   "outputs": [
    {
     "name": "stdout",
     "output_type": "stream",
     "text": [
      "63.0\n"
     ]
    }
   ],
   "source": [
    "# APROX RESULT\n",
    "result = ((3*h)/8)*(sum(sum_final))\n",
    "print(result)"
   ]
  },
  {
   "cell_type": "code",
   "execution_count": 11,
   "metadata": {},
   "outputs": [
    {
     "name": "stdout",
     "output_type": "stream",
     "text": [
      "63.000000000000014\n"
     ]
    }
   ],
   "source": [
    "#REAL SOLUTION\n",
    "sol_real = integrate.quad(fn,a,b)\n",
    "print(sol_real[0])"
   ]
  },
  {
   "cell_type": "code",
   "execution_count": 12,
   "metadata": {},
   "outputs": [
    {
     "name": "stdout",
     "output_type": "stream",
     "text": [
      "2.255691224635238e-14\n"
     ]
    }
   ],
   "source": [
    "# ESTIMATE ERROR\n",
    "error = abs(((sol_real[0] - result)/sol_real[0])*100)\n",
    "print(error)"
   ]
  }
 ],
 "metadata": {
  "interpreter": {
   "hash": "4bd62d0b6c44f2358aecd23e585511665d02eda023f62cb5a7d01040aac4f43b"
  },
  "kernelspec": {
   "display_name": "Python 3.9.7 64-bit ('data': conda)",
   "language": "python",
   "name": "python3"
  },
  "language_info": {
   "codemirror_mode": {
    "name": "ipython",
    "version": 3
   },
   "file_extension": ".py",
   "mimetype": "text/x-python",
   "name": "python",
   "nbconvert_exporter": "python",
   "pygments_lexer": "ipython3",
   "version": "3.9.7"
  },
  "orig_nbformat": 4
 },
 "nbformat": 4,
 "nbformat_minor": 2
}
