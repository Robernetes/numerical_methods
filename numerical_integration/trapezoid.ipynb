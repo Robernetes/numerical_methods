{
 "cells": [
  {
   "cell_type": "code",
   "execution_count": 37,
   "metadata": {},
   "outputs": [],
   "source": [
    "import pandas as pd\n",
    "from scipy import integrate\n",
    "from tabulate import tabulate"
   ]
  },
  {
   "cell_type": "code",
   "execution_count": 38,
   "metadata": {},
   "outputs": [],
   "source": [
    "fn_string = '3*x**2'\n",
    "li = 1\n",
    "ls = 4\n",
    "n = 5\n",
    "h = (ls-li)/n\n",
    "xi = []\n",
    "fx = []\n"
   ]
  },
  {
   "cell_type": "code",
   "execution_count": 39,
   "metadata": {},
   "outputs": [],
   "source": [
    "fn = lambda x: eval(fn_string)\n"
   ]
  },
  {
   "cell_type": "code",
   "execution_count": 40,
   "metadata": {},
   "outputs": [
    {
     "name": "stdout",
     "output_type": "stream",
     "text": [
      "1.6\n",
      "2.2\n",
      "2.8000000000000003\n",
      "3.4000000000000004\n"
     ]
    }
   ],
   "source": [
    "x = li\n",
    "for value in range(n+1):\n",
    "    xi.append(x)\n",
    "    if value == 0:\n",
    "        fx.append(fn(x))\n",
    "    elif value > 0 and value < n:\n",
    "        fx.append(fn(x)*2)\n",
    "        print(x)\n",
    "    elif value == n:\n",
    "        fx.append(fn(x))\n",
    "    x+=h"
   ]
  },
  {
   "cell_type": "code",
   "execution_count": 41,
   "metadata": {},
   "outputs": [
    {
     "name": "stdout",
     "output_type": "stream",
     "text": [
      "+----+------+--------+\n",
      "|    |   xi |   f(x) |\n",
      "|----+------+--------|\n",
      "|  0 |  1   |   3    |\n",
      "|  1 |  1.6 |  15.36 |\n",
      "|  2 |  2.2 |  29.04 |\n",
      "|  3 |  2.8 |  47.04 |\n",
      "|  4 |  3.4 |  69.36 |\n",
      "|  5 |  4   |  48    |\n",
      "+----+------+--------+\n"
     ]
    }
   ],
   "source": [
    "#TABLE \n",
    "datafinal = pd.DataFrame(list(zip(xi,fx)), columns=['xi','f(x)'])\n",
    "print(tabulate(datafinal, headers = 'keys', tablefmt = 'psql'))\n"
   ]
  },
  {
   "cell_type": "code",
   "execution_count": 42,
   "metadata": {},
   "outputs": [
    {
     "name": "stdout",
     "output_type": "stream",
     "text": [
      "63.000000000000014\n"
     ]
    }
   ],
   "source": [
    "# REAL SOLUTION\n",
    "sol_real = integrate.quad(fn,li,ls)\n",
    "print(sol_real[0])"
   ]
  },
  {
   "cell_type": "code",
   "execution_count": 43,
   "metadata": {},
   "outputs": [
    {
     "name": "stdout",
     "output_type": "stream",
     "text": [
      "63.54\n"
     ]
    }
   ],
   "source": [
    "#STIMATED SOLUTION\n",
    "aprox = (h/2)*(sum(fx))\n",
    "print(aprox)"
   ]
  },
  {
   "cell_type": "code",
   "execution_count": 44,
   "metadata": {},
   "outputs": [
    {
     "name": "stdout",
     "output_type": "stream",
     "text": [
      "0.8571428571428331\n"
     ]
    }
   ],
   "source": [
    "# STIMATED ERROR\n",
    "er = abs(((sol_real[0] - aprox)/sol_real[0])*100)\n",
    "print(er)"
   ]
  }
 ],
 "metadata": {
  "interpreter": {
   "hash": "4bd62d0b6c44f2358aecd23e585511665d02eda023f62cb5a7d01040aac4f43b"
  },
  "kernelspec": {
   "display_name": "Python 3.9.7 64-bit ('data': conda)",
   "language": "python",
   "name": "python3"
  },
  "language_info": {
   "codemirror_mode": {
    "name": "ipython",
    "version": 3
   },
   "file_extension": ".py",
   "mimetype": "text/x-python",
   "name": "python",
   "nbconvert_exporter": "python",
   "pygments_lexer": "ipython3",
   "version": "3.9.7"
  },
  "orig_nbformat": 4
 },
 "nbformat": 4,
 "nbformat_minor": 2
}
